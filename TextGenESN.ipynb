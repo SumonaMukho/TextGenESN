{
 "cells": [
  {
   "cell_type": "code",
   "execution_count": 43,
   "metadata": {
    "colab": {},
    "colab_type": "code",
    "id": "BEbfjdmDL5b6"
   },
   "outputs": [],
   "source": [
    "%matplotlib inline\n",
    "import os\n",
    "import numpy as np\n",
    "import matplotlib.pyplot as plt\n",
    "import warnings\n",
    "warnings.simplefilter('ignore')"
   ]
  },
  {
   "cell_type": "markdown",
   "metadata": {
    "colab_type": "text",
    "id": "-LrYvUvnL5cR"
   },
   "source": [
    "## Dataset (males lastnames)\n",
    "About ~9k lastnames"
   ]
  },
  {
   "cell_type": "code",
   "execution_count": 52,
   "metadata": {
    "ExecuteTime": {
     "end_time": "2019-11-05T18:21:03.509714Z",
     "start_time": "2019-11-05T18:21:03.491489Z"
    },
    "colab": {},
    "colab_type": "code",
    "id": "uo-OQz60L5cT"
   },
   "outputs": [],
   "source": [
    "with open('datasets/russian_names.txt') as input_file:\n",
    "    names = input_file.read()[3:-1].split('\\n')\n",
    "    names = [' ' + line for line in names]"
   ]
  },
  {
   "cell_type": "code",
   "execution_count": 53,
   "metadata": {
    "ExecuteTime": {
     "end_time": "2019-11-05T18:21:03.946758Z",
     "start_time": "2019-11-05T18:21:03.938432Z"
    },
    "colab": {
     "base_uri": "https://localhost:8080/",
     "height": 34
    },
    "colab_type": "code",
    "id": "Yeus_UKoL5cb",
    "outputId": "ceabac59-c1f1-4fd8-ac01-4da0b31931b0"
   },
   "outputs": [
    {
     "data": {
      "text/plain": [
       "[' Abaev',\n",
       " ' Abagyan',\n",
       " ' Abaidulin',\n",
       " ' Abaidullin',\n",
       " ' Abaimoff',\n",
       " ' Abaimov',\n",
       " ' Abakeliya',\n",
       " ' Abakovsky',\n",
       " ' Abakshin',\n",
       " ' Abakumoff']"
      ]
     },
     "execution_count": 53,
     "metadata": {},
     "output_type": "execute_result"
    }
   ],
   "source": [
    "names[:10]"
   ]
  },
  {
   "cell_type": "markdown",
   "metadata": {
    "colab_type": "text",
    "id": "oJ0P9oX1L5ci"
   },
   "source": [
    "Name length ditribution"
   ]
  },
  {
   "cell_type": "code",
   "execution_count": 54,
   "metadata": {
    "ExecuteTime": {
     "end_time": "2019-11-05T18:21:05.420060Z",
     "start_time": "2019-11-05T18:21:05.179513Z"
    },
    "colab": {
     "base_uri": "https://localhost:8080/",
     "height": 281
    },
    "colab_type": "code",
    "id": "wYMaHO6cL5cl",
    "outputId": "67f9ae8b-b99a-48e3-c3ae-e7eb963da0bd"
   },
   "outputs": [
    {
     "data": {
      "image/png": "[encoded data removed]",
      "text/plain": [
       "<Figure size 432x288 with 1 Axes>"
      ]
     },
     "metadata": {
      "needs_background": "light"
     },
     "output_type": "display_data"
    }
   ],
   "source": [
    "plt.title('Name length distribution')\n",
    "plt.hist(list(map(len, names)), bins=25);"
   ]
  },
  {
   "cell_type": "markdown",
   "metadata": {
    "colab_type": "text",
    "id": "n7_-YV10L5cq"
   },
   "source": [
    "## Preprocessing"
   ]
  },
  {
   "cell_type": "code",
   "execution_count": 55,
   "metadata": {
    "ExecuteTime": {
     "end_time": "2019-11-05T18:21:07.335188Z",
     "start_time": "2019-11-05T18:21:07.320148Z"
    },
    "colab": {
     "base_uri": "https://localhost:8080/",
     "height": 34
    },
    "colab_type": "code",
    "id": "PM-Kd2qxL5cs",
    "outputId": "11f85a60-729e-4199-bd93-fe2243e97e6d"
   },
   "outputs": [
    {
     "name": "stdout",
     "output_type": "stream",
     "text": [
      "num_tokens =  51\n"
     ]
    }
   ],
   "source": [
    "#all unique characters go here\n",
    "tokens     = list(set(''.join(names)))\n",
    "num_tokens = len(tokens)\n",
    "MAX_LENGTH = max(map(len, names))\n",
    "print ('num_tokens = ', num_tokens)"
   ]
  },
  {
   "cell_type": "markdown",
   "metadata": {
    "colab_type": "text",
    "id": "29_95GTsL5cv"
   },
   "source": [
    "### Character -> id"
   ]
  },
  {
   "cell_type": "code",
   "execution_count": 56,
   "metadata": {
    "ExecuteTime": {
     "end_time": "2019-11-05T18:21:07.674548Z",
     "start_time": "2019-11-05T18:21:07.671129Z"
    },
    "colab": {},
    "colab_type": "code",
    "id": "S-3UuOVHL5cw"
   },
   "outputs": [],
   "source": [
    "token_to_id = {token: idx for idx, token in enumerate(tokens)}"
   ]
  },
  {
   "cell_type": "code",
   "execution_count": 60,
   "metadata": {
    "ExecuteTime": {
     "end_time": "2019-11-05T18:21:07.838814Z",
     "start_time": "2019-11-05T18:21:07.833611Z"
    },
    "colab": {
     "base_uri": "https://localhost:8080/",
     "height": 34
    },
    "colab_type": "code",
    "id": "tUNhK1dqL5cz",
    "outputId": "a1442416-9ed4-448a-c71b-9b4dfb507f0a"
   },
   "outputs": [
    {
     "name": "stdout",
     "output_type": "stream",
     "text": [
      "Seems alright!\n"
     ]
    }
   ],
   "source": [
    "assert len(tokens) == len(token_to_id), \"dictionaries must have same size\"\n",
    "for i in range(num_tokens):\n",
    "    assert token_to_id[tokens[i]] == i, \"token identifier must be it's position in tokens list\"\n",
    "\n",
    "print(\"Seems alright!\")"
   ]
  },
  {
   "cell_type": "code",
   "execution_count": 62,
   "metadata": {
    "ExecuteTime": {
     "end_time": "2019-11-05T18:21:08.136936Z",
     "start_time": "2019-11-05T18:21:08.131609Z"
    },
    "colab": {
     "base_uri": "https://localhost:8080/",
     "height": 185
    },
    "colab_type": "code",
    "id": "XuvQGEfmL5c6",
    "outputId": "5bdd50d9-933f-457c-876f-ba175480c309"
   },
   "outputs": [
    {
     "name": "stdout",
     "output_type": "stream",
     "text": [
      " Abaev\n",
      " Chihanchin\n",
      " Isakov\n",
      " Nakhamkis\n",
      " Utugunov\n",
      "[[30. 32. 43. 15. 27. 50. 30. 30. 30. 30. 30.]\n",
      " [30. 33. 31.  9. 31. 15. 23.  4. 31.  9. 23.]\n",
      " [30. 25. 45. 15. 17.  8. 50. 30. 30. 30. 30.]\n",
      " [30.  2. 15. 17. 31. 15. 26. 17.  9. 45. 30.]\n",
      " [30. 37. 46.  6. 41.  6. 23.  8. 50. 30. 30.]]\n"
     ]
    }
   ],
   "source": [
    "from utils import train\n",
    "train = imp.reload(train)\n",
    "\n",
    "#Example: cast 4 names to matrices, pad with zeros\n",
    "print('\\n'.join(names[::2000]))\n",
    "print(train.to_matrix(names[::2000], token_to_id))"
   ]
  },
  {
   "cell_type": "markdown",
   "metadata": {
    "colab_type": "text",
    "id": "9DWlOUj-L5c9"
   },
   "source": [
    "## ESN NN"
   ]
  },
  {
   "cell_type": "code",
   "execution_count": 25,
   "metadata": {
    "ExecuteTime": {
     "end_time": "2019-11-05T18:21:10.739438Z",
     "start_time": "2019-11-05T18:21:09.661222Z"
    },
    "colab": {},
    "colab_type": "code",
    "id": "LtguL_1QL5c-"
   },
   "outputs": [],
   "source": [
    "import torch, torch.nn as nn\n",
    "import torch.nn.functional as F\n",
    "import torch.optim as optim\n",
    "\n",
    "from torch.autograd import Variable\n",
    "from torchvision import datasets, transforms\n",
    "\n",
    "from IPython.display import clear_output"
   ]
  },
  {
   "cell_type": "markdown",
   "metadata": {
    "colab_type": "text",
    "id": "5jrSOejdfNNJ"
   },
   "source": [
    "### Create ESN instance"
   ]
  },
  {
   "cell_type": "code",
   "execution_count": 94,
   "metadata": {
    "colab": {
     "base_uri": "https://localhost:8080/",
     "height": 185
    },
    "colab_type": "code",
    "id": "vmLA-PHrRZ6I",
    "outputId": "067390b4-4b69-4b72-d0ac-4f6e2909b24e"
   },
   "outputs": [
    {
     "name": "stdout",
     "output_type": "stream",
     "text": [
      "Internal reservoir set\n",
      "Reservoir has 1291 non zero values (0.81%)\n",
      "GenESN(\n",
      "  (readout_in): Linear(in_features=400, out_features=64, bias=True)\n",
      "  (readout_out): Linear(in_features=64, out_features=51, bias=True)\n",
      "  (dropout): Dropout(p=0.1, inplace=False)\n",
      "  (softmax): LogSoftmax()\n",
      ")\n",
      "Wall time: 3.05 s\n"
     ]
    }
   ],
   "source": [
    "%%time\n",
    "from net import esn\n",
    "import importlib as imp\n",
    "esn = imp.reload(esn)\n",
    "\n",
    "\n",
    "device           = torch.device('cuda')\n",
    "n_in             = len(tokens)\n",
    "n_res            = 400\n",
    "lin_size         = 64\n",
    "leaking_rate     = 0.9\n",
    "ro_hidden_layers = 1\n",
    "spec_radius      = 0.99\n",
    "density          = 0.02\n",
    "\n",
    "\n",
    "net = esn.GenESN(n_in=n_in, n_res=n_res , n_out=len(tokens), \n",
    "                 ro_hidden_layers=ro_hidden_layers,\n",
    "                 leaking_rate=leaking_rate, \n",
    "                 spec_radius=spec_radius,\n",
    "                 lin_size=lin_size, \n",
    "                 density=density, \n",
    "                 device=device) \n",
    "net.to(device)\n",
    "print(net)"
   ]
  },
  {
   "cell_type": "code",
   "execution_count": 95,
   "metadata": {
    "colab": {},
    "colab_type": "code",
    "id": "7oWZJhKbDUh2"
   },
   "outputs": [],
   "source": [
    "lr           = 1e-3\n",
    "opt          = torch.optim.Adam(net.parameters(), lr=lr)\n",
    "lr_scheduler = train.scheduler(opt, patience=200)\n",
    "MAX_LENGTH   = max(map(len, names))\n",
    "history      = []"
   ]
  },
  {
   "cell_type": "code",
   "execution_count": 96,
   "metadata": {
    "ExecuteTime": {
     "end_time": "2019-11-05T18:21:23.521061Z",
     "start_time": "2019-11-05T18:21:12.302892Z"
    },
    "colab": {
     "base_uri": "https://localhost:8080/",
     "height": 434
    },
    "colab_type": "code",
    "id": "tll_fV_SL5dT",
    "outputId": "c5f170d3-03ae-4879-e9be-bf44e6e2d140",
    "scrolled": false
   },
   "outputs": [
    {
     "data": {
      "image/png": "[encoded data removed]",
      "text/plain": [
       "<Figure size 936x468 with 1 Axes>"
      ]
     },
     "metadata": {
      "needs_background": "light"
     },
     "output_type": "display_data"
    },
    {
     "name": "stdout",
     "output_type": "stream",
     "text": [
      "Wall time: 25.2 s\n"
     ]
    }
   ],
   "source": [
    "%%time\n",
    "train = imp.reload(train)\n",
    "\n",
    "n_epoch    = 500\n",
    "batch_size = 300\n",
    "\n",
    "train.trainESN(net, \n",
    "               data=names,\n",
    "               tokens=tokens,\n",
    "               token_to_id=token_to_id,\n",
    "               max_length=MAX_LENGTH,\n",
    "               n_epoch=n_epoch, \n",
    "               batch_size=batch_size, \n",
    "               opt=opt,\n",
    "               lr_scheduler=lr_scheduler, \n",
    "               history=history)"
   ]
  },
  {
   "cell_type": "markdown",
   "metadata": {
    "colab_type": "text",
    "id": "oPnVoXRdL5dW"
   },
   "source": [
    "### ESN generating"
   ]
  },
  {
   "cell_type": "code",
   "execution_count": 97,
   "metadata": {
    "ExecuteTime": {
     "end_time": "2019-11-05T18:21:23.625562Z",
     "start_time": "2019-11-05T18:21:23.544968Z"
    },
    "colab": {
     "base_uri": "https://localhost:8080/",
     "height": 185
    },
    "colab_type": "code",
    "id": "zHe1CZVNL5da",
    "outputId": "dad864fc-ff01-45c2-bd9d-5b8609599641"
   },
   "outputs": [
    {
     "name": "stdout",
     "output_type": "stream",
     "text": [
      " Portchilsky         \n",
      " Leskyhinov          \n",
      " Agutaff             \n",
      " Zityan              \n",
      " Abdurbin            \n",
      " Jarozhin            \n",
      " Zhmanev             \n",
      " Bazieskev           \n",
      " Ghin                \n",
      " Bekin               \n"
     ]
    }
   ],
   "source": [
    "from utils import gen\n",
    "gen = imp.reload(gen)\n",
    "\n",
    "for _ in range(10):\n",
    "    print(gen.generate_sample(net, \n",
    "                              max_length=MAX_LENGTH,\n",
    "                              tokens=tokens,\n",
    "                              token_to_id=token_to_id,\n",
    "                              temperature=0.9, \n",
    "                              seed_phrase=' '))"
   ]
  },
  {
   "cell_type": "code",
   "execution_count": 101,
   "metadata": {
    "ExecuteTime": {
     "end_time": "2019-11-05T18:21:23.702249Z",
     "start_time": "2019-11-05T18:21:23.629226Z"
    },
    "colab": {
     "base_uri": "https://localhost:8080/",
     "height": 185
    },
    "colab_type": "code",
    "id": "ORyESEhwL5de",
    "outputId": "ebf43565-8890-43e3-bdf8-9fc2efc76019"
   },
   "outputs": [
    {
     "name": "stdout",
     "output_type": "stream",
     "text": [
      " Alperov             \n",
      " Alpich              \n",
      " Alpunin             \n",
      " Alpitchev           \n",
      " Alpi-av             \n",
      " Alpichev            \n",
      " Alpaev              \n",
      " Alpushiin           \n",
      " Alponov             \n",
      " Alpin               \n"
     ]
    }
   ],
   "source": [
    "for _ in range(10):\n",
    "    print(gen.generate_sample(net, \n",
    "                              max_length=MAX_LENGTH,\n",
    "                              tokens=tokens,\n",
    "                              token_to_id=token_to_id,\n",
    "                              temperature=1.0, \n",
    "                              seed_phrase=' Alp'))"
   ]
  },
  {
   "cell_type": "markdown",
   "metadata": {
    "colab_type": "text",
    "id": "1E8dIW-LkMTH"
   },
   "source": [
    "### GridSearch Optimization hyperparams"
   ]
  },
  {
   "cell_type": "code",
   "execution_count": 117,
   "metadata": {
    "colab": {
     "base_uri": "https://localhost:8080/",
     "height": 195
    },
    "colab_type": "code",
    "id": "YjN_FUZikMTL",
    "outputId": "e65a8b50-158d-464a-97cd-bd7e05822a8b",
    "scrolled": false
   },
   "outputs": [
    {
     "name": "stdout",
     "output_type": "stream",
     "text": [
      "Params: {'density': 0.05, 'leaking_rate': 0.6, 'lin_size': 64, 'n_res': 300, 'ro_hidden_layers': 1}\n",
      "Internal reservoir set\n",
      "Reservoir has 1692 non zero values (1.88%)\n",
      "Loss function value: 0.9419999718666077 \n",
      "\n",
      "Params: {'density': 0.05, 'leaking_rate': 0.6, 'lin_size': 64, 'n_res': 300, 'ro_hidden_layers': 2}\n",
      "Internal reservoir set\n",
      "Reservoir has 1447 non zero values (1.61%)\n",
      "Loss function value: 0.9290000200271606 \n",
      "\n",
      "Params: {'density': 0.05, 'leaking_rate': 0.6, 'lin_size': 64, 'n_res': 300, 'ro_hidden_layers': 3}\n",
      "Internal reservoir set\n",
      "Reservoir has 1574 non zero values (1.75%)\n",
      "Loss function value: 0.9409999847412109 \n",
      "\n",
      "Params: {'density': 0.05, 'leaking_rate': 0.6, 'lin_size': 100, 'n_res': 300, 'ro_hidden_layers': 1}\n",
      "Internal reservoir set\n",
      "Reservoir has 1593 non zero values (1.77%)\n",
      "Loss function value: 0.9269999861717224 \n",
      "\n",
      "Params: {'density': 0.05, 'leaking_rate': 0.6, 'lin_size': 100, 'n_res': 300, 'ro_hidden_layers': 2}\n",
      "Internal reservoir set\n",
      "Reservoir has 1571 non zero values (1.75%)\n",
      "Loss function value: 0.9160000085830688 \n",
      "\n",
      "Params: {'density': 0.05, 'leaking_rate': 0.6, 'lin_size': 100, 'n_res': 300, 'ro_hidden_layers': 3}\n",
      "Internal reservoir set\n",
      "Reservoir has 1653 non zero values (1.84%)\n",
      "Loss function value: 0.9269999861717224 \n",
      "\n",
      "Params: {'density': 0.05, 'leaking_rate': 0.6, 'lin_size': 210, 'n_res': 300, 'ro_hidden_layers': 1}\n",
      "Internal reservoir set\n",
      "Reservoir has 1480 non zero values (1.64%)\n",
      "Loss function value: 0.9079999923706055 \n",
      "\n",
      "Params: {'density': 0.05, 'leaking_rate': 0.6, 'lin_size': 210, 'n_res': 300, 'ro_hidden_layers': 2}\n",
      "Internal reservoir set\n",
      "Reservoir has 1576 non zero values (1.75%)\n",
      "Loss function value: 0.9039999842643738 \n",
      "\n",
      "Params: {'density': 0.05, 'leaking_rate': 0.6, 'lin_size': 210, 'n_res': 300, 'ro_hidden_layers': 3}\n",
      "Internal reservoir set\n",
      "Reservoir has 1564 non zero values (1.74%)\n",
      "Loss function value: 0.902999997138977 \n",
      "\n",
      "Params: {'density': 0.05, 'leaking_rate': 0.9, 'lin_size': 64, 'n_res': 300, 'ro_hidden_layers': 1}\n",
      "Internal reservoir set\n",
      "Reservoir has 1632 non zero values (1.81%)\n",
      "Loss function value: 0.9229999780654907 \n",
      "\n",
      "Params: {'density': 0.05, 'leaking_rate': 0.9, 'lin_size': 64, 'n_res': 300, 'ro_hidden_layers': 2}\n",
      "Internal reservoir set\n",
      "Reservoir has 1637 non zero values (1.82%)\n",
      "Loss function value: 0.9200000166893005 \n",
      "\n",
      "Params: {'density': 0.05, 'leaking_rate': 0.9, 'lin_size': 64, 'n_res': 300, 'ro_hidden_layers': 3}\n",
      "Internal reservoir set\n",
      "Reservoir has 1585 non zero values (1.76%)\n",
      "Loss function value: 0.921999990940094 \n",
      "\n",
      "Params: {'density': 0.05, 'leaking_rate': 0.9, 'lin_size': 100, 'n_res': 300, 'ro_hidden_layers': 1}\n",
      "Internal reservoir set\n",
      "Reservoir has 1567 non zero values (1.74%)\n",
      "Loss function value: 0.9110000133514404 \n",
      "\n",
      "Params: {'density': 0.05, 'leaking_rate': 0.9, 'lin_size': 100, 'n_res': 300, 'ro_hidden_layers': 2}\n",
      "Internal reservoir set\n",
      "Reservoir has 1552 non zero values (1.72%)\n",
      "Loss function value: 0.906000018119812 \n",
      "\n",
      "Params: {'density': 0.05, 'leaking_rate': 0.9, 'lin_size': 100, 'n_res': 300, 'ro_hidden_layers': 3}\n",
      "Internal reservoir set\n",
      "Reservoir has 1666 non zero values (1.85%)\n",
      "Loss function value: 0.9089999794960022 \n",
      "\n",
      "Params: {'density': 0.05, 'leaking_rate': 0.9, 'lin_size': 210, 'n_res': 300, 'ro_hidden_layers': 1}\n",
      "Internal reservoir set\n",
      "Reservoir has 1531 non zero values (1.70%)\n",
      "Loss function value: 0.8999999761581421 \n",
      "\n",
      "Params: {'density': 0.05, 'leaking_rate': 0.9, 'lin_size': 210, 'n_res': 300, 'ro_hidden_layers': 2}\n",
      "Internal reservoir set\n",
      "Reservoir has 1511 non zero values (1.68%)\n",
      "Loss function value: 0.8899999856948853 \n",
      "\n",
      "Params: {'density': 0.05, 'leaking_rate': 0.9, 'lin_size': 210, 'n_res': 300, 'ro_hidden_layers': 3}\n",
      "Internal reservoir set\n",
      "Reservoir has 1608 non zero values (1.79%)\n",
      "Loss function value: 0.8870000243186951 \n",
      "\n",
      "Params: {'density': 0.1, 'leaking_rate': 0.6, 'lin_size': 64, 'n_res': 300, 'ro_hidden_layers': 1}\n",
      "Internal reservoir set\n",
      "Reservoir has 2761 non zero values (3.07%)\n",
      "Loss function value: 0.9419999718666077 \n",
      "\n",
      "Params: {'density': 0.1, 'leaking_rate': 0.6, 'lin_size': 64, 'n_res': 300, 'ro_hidden_layers': 2}\n",
      "Internal reservoir set\n",
      "Reservoir has 2500 non zero values (2.78%)\n",
      "Loss function value: 0.9359999895095825 \n",
      "\n",
      "Params: {'density': 0.1, 'leaking_rate': 0.6, 'lin_size': 64, 'n_res': 300, 'ro_hidden_layers': 3}\n",
      "Internal reservoir set\n",
      "Reservoir has 2547 non zero values (2.83%)\n",
      "Loss function value: 0.9369999766349792 \n",
      "\n",
      "Params: {'density': 0.1, 'leaking_rate': 0.6, 'lin_size': 100, 'n_res': 300, 'ro_hidden_layers': 1}\n",
      "Internal reservoir set\n",
      "Reservoir has 2455 non zero values (2.73%)\n",
      "Loss function value: 0.9340000152587891 \n",
      "\n",
      "Params: {'density': 0.1, 'leaking_rate': 0.6, 'lin_size': 100, 'n_res': 300, 'ro_hidden_layers': 2}\n",
      "Internal reservoir set\n",
      "Reservoir has 2332 non zero values (2.59%)\n",
      "Loss function value: 0.921999990940094 \n",
      "\n",
      "Params: {'density': 0.1, 'leaking_rate': 0.6, 'lin_size': 100, 'n_res': 300, 'ro_hidden_layers': 3}\n",
      "Internal reservoir set\n",
      "Reservoir has 2800 non zero values (3.11%)\n",
      "KeyboardInterrupt, stoping...\n"
     ]
    }
   ],
   "source": [
    "from utils import optimizer\n",
    "optimizer = imp.reload(optimizer)\n",
    "\n",
    "\n",
    "optimizer.GridSearchOptimizer(esn.GenESN,\n",
    "                              data=names,\n",
    "                              n_epoch=500,\n",
    "                              batch_size=300,\n",
    "                              max_length=MAX_LENGTH,\n",
    "                              tokens=tokens,\n",
    "                              token_to_id=token_to_id,\n",
    "                              in_out=(len(tokens), len(tokens)),\n",
    "                              learning_rate=1e-3,\n",
    "                              n_res=[300],\n",
    "                              lin_size=[64, 100, 210],\n",
    "                              density=[0.05, 0.1, 0.2],\n",
    "                              ro_hidden_layers=[1, 2, 3],\n",
    "                              leaking_rate=[0.6, 0.9])"
   ]
  },
  {
   "cell_type": "markdown",
   "metadata": {
    "colab_type": "text",
    "collapsed": true,
    "id": "oXasIgZEL5dh"
   },
   "source": [
    "### RNN implementation"
   ]
  },
  {
   "cell_type": "code",
   "execution_count": 119,
   "metadata": {
    "colab": {},
    "colab_type": "code",
    "id": "PknuVyCXWaaY"
   },
   "outputs": [],
   "source": [
    "class CharRNNCell(nn.Module):\n",
    "    \n",
    "    def __init__(self, \n",
    "                 num_tokens=len(tokens), \n",
    "                 embedding_size=16, \n",
    "                 rnn_num_units=64, \n",
    "                 device = torch.device('cuda:0')):\n",
    "        super(self.__class__,self).__init__()\n",
    "        \n",
    "        self.num_units     = rnn_num_units\n",
    "        self.embedding     = nn.Embedding(num_tokens, embedding_size).to(device)\n",
    "        self.rnn_update    = nn.Linear(embedding_size + rnn_num_units, rnn_num_units).to(device)\n",
    "        self.rnn_to_logits = nn.Linear(rnn_num_units, num_tokens).to(device)\n",
    "        \n",
    "    def forward(self, x, h_prev):\n",
    "        x_emb = self.embedding(x).to(device)\n",
    "        \n",
    "        x_and_h = torch.cat([x_emb, h_prev], dim=1) \n",
    "        h_next  = self.rnn_update(x_and_h)         \n",
    "        h_next  = F.tanh(h_next)\n",
    "        \n",
    "        logits = self.rnn_to_logits(h_next)\n",
    "        \n",
    "        return h_next, F.log_softmax(logits, -1)\n",
    "    \n",
    "    def initial_state(self, batch_size):\n",
    "        return Variable(torch.zeros(batch_size, self.num_units))"
   ]
  },
  {
   "cell_type": "code",
   "execution_count": 120,
   "metadata": {
    "colab": {},
    "colab_type": "code",
    "id": "OW7U24l5Wppx"
   },
   "outputs": [],
   "source": [
    "def rnn_loop(rnn, batch_index):\n",
    "    batch_size, max_length = batch_index.size()\n",
    "    hid_state = rnn.initial_state(batch_size).to(device)\n",
    "    logprobs = []\n",
    "    for x_t in batch_index.transpose(0, 1):\n",
    "        hid_state, logp_next = rnn(x_t.to(device), hid_state.to(device))  \n",
    "        logprobs.append(logp_next)\n",
    "    return torch.stack(logprobs, dim=1)"
   ]
  },
  {
   "cell_type": "code",
   "execution_count": 127,
   "metadata": {
    "ExecuteTime": {
     "end_time": "2019-11-05T18:21:31.468107Z",
     "start_time": "2019-11-05T18:21:23.792092Z"
    },
    "colab": {},
    "colab_type": "code",
    "id": "PljEglKFL5dn"
   },
   "outputs": [],
   "source": [
    "def trainRNN(rnn, \n",
    "             n_epoch=500, \n",
    "             batch_size=300, \n",
    "             random_batching=True,\n",
    "             max_length=MAX_LENGTH):\n",
    "\n",
    "    for i in range(n_epoch):\n",
    "        if random_batching:\n",
    "            batch_ix = train.to_matrix(sample(names, batch_size), token_to_id, max_len=max_length)\n",
    "            batch_ix = torch.tensor(batch_ix, dtype=torch.int64)\n",
    "\n",
    "            logp_seq = rnn_loop(rnn, batch_ix)\n",
    "\n",
    "            predictions_logp   = logp_seq[:, :-1].to(device)\n",
    "            actual_next_tokens = batch_ix[:, 1:].to(device)\n",
    "            \n",
    "            loss = -torch.mean(torch.gather(predictions_logp, dim=2, index=actual_next_tokens[:, :, None]))\n",
    "            loss.backward()\n",
    "            opt.step()\n",
    "            opt.zero_grad()\n",
    "\n",
    "            history.append(loss.data.cpu().numpy())\n",
    "            if (i + 1) % 100 == 0:\n",
    "                clear_output(True)\n",
    "                plt.figure(figsize=(13, 6.5))\n",
    "                plt.grid()\n",
    "                plt.plot(history, '.-', label='loss')\n",
    "                plt.legend()\n",
    "                plt.show()\n",
    "\n",
    "    assert np.mean(history[:10]) > np.mean(history[-10:]), \"RNN didn't converge.\""
   ]
  },
  {
   "cell_type": "code",
   "execution_count": 128,
   "metadata": {
    "colab": {},
    "colab_type": "code",
    "id": "TV_mQYKLWzM2"
   },
   "outputs": [],
   "source": [
    "char_rnn = CharRNNCell()\n",
    "opt      = torch.optim.Adam(char_rnn.parameters())\n",
    "history  = []"
   ]
  },
  {
   "cell_type": "code",
   "execution_count": 129,
   "metadata": {
    "colab": {
     "base_uri": "https://localhost:8080/",
     "height": 293
    },
    "colab_type": "code",
    "id": "FPOrn-ywkMTZ",
    "outputId": "760e87f6-54e7-4db4-b355-1938c2b0d161"
   },
   "outputs": [
    {
     "data": {
      "image/png": "[encoded data removed]",
      "text/plain": [
       "<Figure size 936x468 with 1 Axes>"
      ]
     },
     "metadata": {
      "needs_background": "light"
     },
     "output_type": "display_data"
    },
    {
     "name": "stdout",
     "output_type": "stream",
     "text": [
      "Wall time: 26 s\n"
     ]
    }
   ],
   "source": [
    "%%time\n",
    "trainRNN(char_rnn, n_epoch=500, batch_size=300)"
   ]
  },
  {
   "cell_type": "code",
   "execution_count": 130,
   "metadata": {
    "colab": {},
    "colab_type": "code",
    "id": "sZRawgPWGBQ7"
   },
   "outputs": [],
   "source": [
    "def generate_sample_rnn(char_rnn, \n",
    "                        seed_phrase=' ', \n",
    "                        max_length=MAX_LENGTH, \n",
    "                        temperature=1.0,\n",
    "                        enforce_end=False, \n",
    "                        device=torch.device('cuda')): \n",
    "    \n",
    "    x_sequence = [token_to_id[token] for token in seed_phrase]\n",
    "    x_sequence = torch.tensor([x_sequence], dtype=torch.int64).to(device)\n",
    "    hid_state  = char_rnn.initial_state(batch_size=1).to(device)\n",
    "    \n",
    "    for i in range(len(seed_phrase) - 1):\n",
    "        hid_state, _ = char_rnn(x_sequence[:, i], hid_state)\n",
    "    \n",
    "    for _ in range(max_length - len(seed_phrase)):\n",
    "        \n",
    "        hid_state, logp_next = char_rnn(x_sequence[:, -1], hid_state)\n",
    "        \n",
    "        p_next = F.softmax(logp_next / temperature, dim=-1).data.cpu().numpy()[0]\n",
    "        \n",
    "        next_ix = np.random.choice(len(tokens), p=p_next)\n",
    "        next_ix = torch.tensor([[next_ix]], dtype=torch.int64).to(device)\n",
    "        \n",
    "        if enforce_end and tokens[next_ix] == ' ':\n",
    "            break\n",
    "        x_sequence = torch.cat([x_sequence, next_ix], dim=1)\n",
    "       \n",
    "        \n",
    "    return ''.join([tokens[ix] for ix in x_sequence.data.cpu().numpy()[0]])"
   ]
  },
  {
   "cell_type": "code",
   "execution_count": 133,
   "metadata": {
    "ExecuteTime": {
     "end_time": "2019-11-05T18:21:31.526436Z",
     "start_time": "2019-11-05T18:21:31.469965Z"
    },
    "colab": {
     "base_uri": "https://localhost:8080/",
     "height": 185
    },
    "colab_type": "code",
    "id": "Xw-3R-9QL5dq",
    "outputId": "0d9ce7c4-1c66-43f0-a6b6-841d87a21355"
   },
   "outputs": [
    {
     "name": "stdout",
     "output_type": "stream",
     "text": [
      " Alperov             \n",
      " Alperovilov         \n",
      " Alperotan           \n",
      " Alperov             \n",
      " Alperov             \n",
      " Alperov             \n",
      " Alperovsky          \n",
      " Alperotov           \n",
      " AlperovKukov        \n",
      " Alperov             \n"
     ]
    }
   ],
   "source": [
    "for _ in range(10):\n",
    "    print(generate_sample_rnn(char_rnn,temperature=0.9,seed_phrase=' Alpero'))"
   ]
  },
  {
   "cell_type": "markdown",
   "metadata": {
    "colab_type": "text",
    "id": "6jy4GwHCkMTk"
   },
   "source": [
    "### Evaluate and compare generated results. Vanilla RNN VS ESN"
   ]
  },
  {
   "cell_type": "code",
   "execution_count": 140,
   "metadata": {
    "colab": {},
    "colab_type": "code",
    "id": "ENXDq5UkkMTl"
   },
   "outputs": [],
   "source": [
    "from nltk.translate.bleu_score import SmoothingFunction, sentence_bleu\n",
    "from nltk import bleu"
   ]
  },
  {
   "cell_type": "code",
   "execution_count": 141,
   "metadata": {
    "colab": {},
    "colab_type": "code",
    "id": "MWxevru6kMTo"
   },
   "outputs": [],
   "source": [
    "n_gen = 10\n",
    "t     = 0.9\n",
    "rnn_generated = [generate_sample_rnn(char_rnn, \n",
    "                                     seed_phrase=' ', \n",
    "                                     temperature=t, \n",
    "                                     enforce_end=True) \\\n",
    "                 for x in range(n_gen)]\n",
    "esn_generated = [gen.generate_sample(net, \n",
    "                                     max_length=MAX_LENGTH,\n",
    "                                     tokens=tokens,\n",
    "                                     token_to_id=token_to_id,\n",
    "                                     seed_phrase=' ', \n",
    "                                     temperature=t, \n",
    "                                     enforce_end=True) \\\n",
    "                 for x in range(n_gen)]"
   ]
  },
  {
   "cell_type": "code",
   "execution_count": 142,
   "metadata": {
    "colab": {
     "base_uri": "https://localhost:8080/",
     "height": 34
    },
    "colab_type": "code",
    "id": "ljs5KDOJkMTr",
    "outputId": "789b9250-8d86-4ddb-b0ed-2b7d0ef29031"
   },
   "outputs": [
    {
     "data": {
      "text/plain": [
       "([' Dharemsosshannev', ' Rardaimov', ' Polsov'],\n",
       " [' Porchin', ' Zhikov', ' Dasnko'])"
      ]
     },
     "execution_count": 142,
     "metadata": {},
     "output_type": "execute_result"
    }
   ],
   "source": [
    "rnn_generated[:3], esn_generated[:3]"
   ]
  },
  {
   "cell_type": "code",
   "execution_count": 143,
   "metadata": {
    "colab": {},
    "colab_type": "code",
    "id": "v40VzSiVkMTu"
   },
   "outputs": [],
   "source": [
    "def evaluate_gen(reference, candidates, is_sentence_bleu=False):\n",
    "    sm_f      = SmoothingFunction()\n",
    "    min_bleu  = 1\n",
    "    score_lst = []\n",
    "    for candidate in candidates:\n",
    "        if is_sentence_bleu:\n",
    "            score_lst.append(sentence_bleu(reference, candidate))\n",
    "        else:\n",
    "            score_lst.append(np.mean([bleu(ref, candidate, smoothing_function=sm_f.method1) \n",
    "                                      for ref in reference]))\n",
    "    return score_lst\n",
    "        "
   ]
  },
  {
   "cell_type": "code",
   "execution_count": 144,
   "metadata": {
    "colab": {
     "base_uri": "https://localhost:8080/",
     "height": 67
    },
    "colab_type": "code",
    "id": "8pO7WXZmkMT5",
    "outputId": "0bde9355-2156-4bce-f764-0adadedb4321"
   },
   "outputs": [
    {
     "name": "stdout",
     "output_type": "stream",
     "text": [
      "Wall time: 24.1 s\n",
      "Eval mean: 0.0371 Eval min: 0.0187 Eval max: 0.0444\n"
     ]
    }
   ],
   "source": [
    "%time score_lst = evaluate_gen(names, esn_generated)\n",
    "print('Eval mean: {:.3} Eval min: {:.3} Eval max: {:.3}'.format(np.mean(score_lst), \n",
    "                                                                min(score_lst), \n",
    "                                                                max(score_lst)))"
   ]
  },
  {
   "cell_type": "code",
   "execution_count": 145,
   "metadata": {
    "colab": {
     "base_uri": "https://localhost:8080/",
     "height": 67
    },
    "colab_type": "code",
    "id": "HhJvAc0lkMT7",
    "outputId": "6ce0118f-baa4-4e34-e2ae-d178bd00452d"
   },
   "outputs": [
    {
     "name": "stdout",
     "output_type": "stream",
     "text": [
      "Wall time: 26.3 s\n",
      "Eval mean: 0.0335 Eval min: 0.0168 Eval max: 0.0523\n"
     ]
    }
   ],
   "source": [
    "%time score_lst = evaluate_gen(names, rnn_generated)\n",
    "print('Eval mean: {:.3} Eval min: {:.3} Eval max: {:.3}'.format(np.mean(score_lst), \n",
    "                                                                min(score_lst), \n",
    "                                                                max(score_lst)))"
   ]
  },
  {
   "cell_type": "code",
   "execution_count": 146,
   "metadata": {
    "colab": {
     "base_uri": "https://localhost:8080/",
     "height": 67
    },
    "colab_type": "code",
    "id": "5bOgOKT7XNuq",
    "outputId": "40eaf2a9-8e9d-4076-a185-34df82bc6304"
   },
   "outputs": [
    {
     "name": "stdout",
     "output_type": "stream",
     "text": [
      "Wall time: 3.59 s\n",
      "Eval mean: 0.905 Eval min: 0.669 Eval max: 1.0\n"
     ]
    }
   ],
   "source": [
    "%time score_lst = evaluate_gen(names, esn_generated, is_sentence_bleu=True)\n",
    "print('Eval mean: {:.3} Eval min: {:.3} Eval max: {:.3}'.format(np.mean(score_lst), \n",
    "                                                                min(score_lst), \n",
    "                                                                max(score_lst)))"
   ]
  },
  {
   "cell_type": "code",
   "execution_count": 147,
   "metadata": {
    "colab": {
     "base_uri": "https://localhost:8080/",
     "height": 67
    },
    "colab_type": "code",
    "id": "0Z7KwgMaXOgz",
    "outputId": "382b4224-ed95-488b-eebd-ba0984f2d5db"
   },
   "outputs": [
    {
     "name": "stdout",
     "output_type": "stream",
     "text": [
      "Wall time: 3.28 s\n",
      "Eval mean: 0.755 Eval min: 0.517 Eval max: 1.0\n"
     ]
    }
   ],
   "source": [
    "%time score_lst = evaluate_gen(names, rnn_generated, is_sentence_bleu=True)\n",
    "print('Eval mean: {:.3} Eval min: {:.3} Eval max: {:.3}'.format(np.mean(score_lst), \n",
    "                                                                min(score_lst), \n",
    "                                                                max(score_lst)))"
   ]
  },
  {
   "cell_type": "markdown",
   "metadata": {
    "colab_type": "text",
    "id": "90-IdCbxkMT-"
   },
   "source": [
    "**Compare score by temperature**"
   ]
  },
  {
   "cell_type": "code",
   "execution_count": 0,
   "metadata": {
    "colab": {
     "base_uri": "https://localhost:8080/",
     "height": 202
    },
    "colab_type": "code",
    "id": "P_7V45wIkMUA",
    "outputId": "ecce1939-f098-4941-d070-4e95eb642853"
   },
   "outputs": [
    {
     "name": "stdout",
     "output_type": "stream",
     "text": [
      "Temperature 0.2\n",
      "Temperature 0.3\n",
      "Temperature 0.4\n",
      "Temperature 0.5\n",
      "Temperature 0.6\n",
      "Temperature 0.7\n",
      "Temperature 0.8\n",
      "Temperature 0.9\n",
      "Temperature 1\n",
      "Wall time: 51.7 s\n"
     ]
    }
   ],
   "source": [
    "%%time\n",
    "n_gen            = 100\n",
    "n_neg_sample     = 500\n",
    "temperature      = [0.2, 0.3, 0.4, 0.5, 0.6, 0.7, 0.8, 0.9, 1]\n",
    "is_sentence_bleu = True\n",
    "\n",
    "rnn_gen_mean_lst = []\n",
    "esn_gen_mean_lst = []\n",
    "rnn_gen_min_lst  = []\n",
    "esn_gen_min_lst  = []\n",
    "rnn_gen_max_lst  = []\n",
    "esn_gen_max_lst  = []\n",
    "\n",
    "for t in temperature:\n",
    "    print('Temperature {}'.format(t))\n",
    "    sample_data   = sample(names, n_neg_sample)\n",
    "    rnn_generated = [generate_sample_rnn(char_rnn, seed_phrase=' ', temperature=t, enforce_end=True) \\\n",
    "                     for x in range(n_gen)]\n",
    "    score_lst = evaluate_gen(sample_data, rnn_generated, is_sentence_bleu=is_sentence_bleu)\n",
    "    rnn_gen_mean_lst.append(np.mean(score_lst))\n",
    "    rnn_gen_min_lst.append(min(score_lst))\n",
    "    rnn_gen_max_lst.append(max(score_lst))\n",
    "    \n",
    "    esn_generated = [generate_sample(net, seed_phrase=' ', temperature=t, enforce_end=True) for x in range(n_gen)]\n",
    "    score_lst = evaluate_gen(sample_data, esn_generated, is_sentence_bleu=is_sentence_bleu)\n",
    "    esn_gen_mean_lst.append(np.mean(score_lst))\n",
    "    esn_gen_min_lst.append(min(score_lst))\n",
    "    esn_gen_max_lst.append(max(score_lst))"
   ]
  },
  {
   "cell_type": "code",
   "execution_count": 0,
   "metadata": {
    "colab": {
     "base_uri": "https://localhost:8080/",
     "height": 350
    },
    "colab_type": "code",
    "id": "dkmY2Cu2kMUF",
    "outputId": "712ddf74-ca8c-4e71-ae7b-11543b202836"
   },
   "outputs": [
    {
     "data": {
      "image/png": "[encoded data removed]",
      "text/plain": [
       "<Figure size 648x360 with 1 Axes>"
      ]
     },
     "metadata": {
      "needs_background": "light",
      "tags": []
     },
     "output_type": "display_data"
    }
   ],
   "source": [
    "plt.figure(figsize=(9,5))\n",
    "plt.plot(temperature,rnn_gen_mean_lst, label='rnn mean score')\n",
    "plt.plot(temperature,esn_gen_mean_lst, label='esn mean score')\n",
    "plt.plot(temperature,rnn_gen_max_lst, '--', label='rnn max score')\n",
    "plt.plot(temperature,esn_gen_max_lst,'--', label='esn max score')\n",
    "plt.plot(temperature,rnn_gen_min_lst,'--', label='rnn min score')\n",
    "plt.plot(temperature,esn_gen_min_lst,'--', label='esn min score')\n",
    "plt.xlabel('temperature')\n",
    "plt.ylabel('Score')\n",
    "plt.title('Evaluation score by temperature of generation')\n",
    "plt.grid()\n",
    "plt.legend()\n",
    "plt.show()"
   ]
  },
  {
   "cell_type": "markdown",
   "metadata": {
    "colab_type": "text",
    "id": "sOLYy0HXhj7p"
   },
   "source": [
    "## Quotes dataset"
   ]
  },
  {
   "cell_type": "code",
   "execution_count": 0,
   "metadata": {
    "colab": {
     "base_uri": "https://localhost:8080/",
     "height": 67
    },
    "colab_type": "code",
    "id": "4gvGDPfzSz5l",
    "outputId": "cc411f97-2d2c-4111-bdd2-fc114e124b5a"
   },
   "outputs": [
    {
     "name": "stdout",
     "output_type": "stream",
     "text": [
      "[nltk_data] Downloading package punkt to /root/nltk_data...\n",
      "[nltk_data]   Unzipping tokenizers/punkt.zip.\n"
     ]
    },
    {
     "data": {
      "text/plain": [
       "True"
      ]
     },
     "execution_count": 58,
     "metadata": {
      "tags": []
     },
     "output_type": "execute_result"
    }
   ],
   "source": [
    "import nltk\n",
    "nltk.download('punkt')"
   ]
  },
  {
   "cell_type": "code",
   "execution_count": 0,
   "metadata": {
    "colab": {
     "base_uri": "https://localhost:8080/",
     "height": 50
    },
    "colab_type": "code",
    "id": "nhw_MWKfSz5p",
    "outputId": "2394b18f-9963-4237-9414-e4ff2220e0d3"
   },
   "outputs": [
    {
     "name": "stdout",
     "output_type": "stream",
     "text": [
      "CPU times: user 7.26 s, sys: 7.33 ms, total: 7.27 s\n",
      "Wall time: 7.27 s\n"
     ]
    }
   ],
   "source": [
    "%%time\n",
    "import string\n",
    "from nltk.tokenize import word_tokenize\n",
    "\n",
    "with open('datasets/author_quotes.txt') as input_file:\n",
    "    quotes = input_file.read()[:-1].split('\\n')\n",
    "    quotes = [' ' + line for line in quotes]\n",
    "\n",
    "\n",
    "for i, quote in enumerate(quotes):\n",
    "    quote = word_tokenize(quote)\n",
    "    proc_quote = []\n",
    "    for j, token in enumerate(quote):\n",
    "        token = list(filter(lambda char: char in list(string.ascii_letters), token))\n",
    "        proc_quote.append(''.join(token))\n",
    "    quote = ' '.join(proc_quote)\n",
    "    quotes[i] = quote.lower()\n"
   ]
  },
  {
   "cell_type": "code",
   "execution_count": 0,
   "metadata": {
    "colab": {
     "base_uri": "https://localhost:8080/",
     "height": 121
    },
    "colab_type": "code",
    "id": "UMj4YWKHSz5s",
    "outputId": "7def96ab-5ac6-47e9-ea59-54ec3268c5ea"
   },
   "outputs": [
    {
     "data": {
      "text/plain": [
       "['perfection is achieved  not when there is nothing more to add  but when there is nothing left to take away ',\n",
       " 'the amount of things i have been through and the remarkable ways in which the body has reacted is just phenomenal  no wonder i became religious  because you do nt know why something s happening to you and you do nt know how you bounced back ',\n",
       " 'i do not yet know why plants come out of the land or float in streams  or creep on rocks or roll from the sea  i am entranced by the mystery of them  and absorbed by their variety and kinds  everywhere they are visible yet everywhere occult ',\n",
       " 'silence is argument carried out by other means ',\n",
       " 'netflix  amazon  itunes  whatever platforms emerge  we are looking at as having the same potential that home video had for the movie business  which means there are entirely new opportunities to monetize our capital investment in content and do so in ways that work for distributors  for consumers and for creators ']"
      ]
     },
     "execution_count": 78,
     "metadata": {
      "tags": []
     },
     "output_type": "execute_result"
    }
   ],
   "source": [
    "sample(quotes,5)"
   ]
  },
  {
   "cell_type": "code",
   "execution_count": 0,
   "metadata": {
    "colab": {
     "base_uri": "https://localhost:8080/",
     "height": 281
    },
    "colab_type": "code",
    "id": "utdk1xAzSz5u",
    "outputId": "748b5a21-fc20-4d02-cab4-4226fe95e7ce"
   },
   "outputs": [
    {
     "data": {
      "image/png": "[encoded data removed]",
      "text/plain": [
       "<Figure size 432x288 with 1 Axes>"
      ]
     },
     "metadata": {
      "tags": []
     },
     "output_type": "display_data"
    }
   ],
   "source": [
    "plt.title('Quotes length distribution')\n",
    "plt.hist(list(map(len, quotes)), bins=25);"
   ]
  },
  {
   "cell_type": "code",
   "execution_count": 0,
   "metadata": {
    "colab": {
     "base_uri": "https://localhost:8080/",
     "height": 34
    },
    "colab_type": "code",
    "id": "xweBlAUnSz5v",
    "outputId": "7aad984e-0f4b-4fd3-de8a-fac442440d3d"
   },
   "outputs": [
    {
     "name": "stdout",
     "output_type": "stream",
     "text": [
      "num_tokens =  27\n"
     ]
    }
   ],
   "source": [
    "#all unique characters go here\n",
    "qtokens = list(set(''.join(quotes)))\n",
    "num_qtokens = len(qtokens)\n",
    "print ('num_tokens = ', num_qtokens)"
   ]
  },
  {
   "cell_type": "code",
   "execution_count": 0,
   "metadata": {
    "colab": {},
    "colab_type": "code",
    "id": "J2ulwO18Sz5y"
   },
   "outputs": [],
   "source": [
    "# qtokens"
   ]
  },
  {
   "cell_type": "code",
   "execution_count": 0,
   "metadata": {
    "colab": {},
    "colab_type": "code",
    "id": "EH3OGxPnSz5z"
   },
   "outputs": [],
   "source": [
    "qtoken_to_id = {token: idx for idx, token in enumerate(qtokens)}"
   ]
  },
  {
   "cell_type": "code",
   "execution_count": 0,
   "metadata": {
    "colab": {
     "base_uri": "https://localhost:8080/",
     "height": 34
    },
    "colab_type": "code",
    "id": "WB3nZpaPSz52",
    "outputId": "758c0f45-9c7c-4b65-c34c-247046a93307"
   },
   "outputs": [
    {
     "name": "stdout",
     "output_type": "stream",
     "text": [
      "Seems alright!\n"
     ]
    }
   ],
   "source": [
    "assert len(qtokens) == len(qtoken_to_id), \"dictionaries must have same size\"\n",
    "for i in range(num_qtokens):\n",
    "    assert qtoken_to_id[qtokens[i]] == i, \"token identifier must be it's position in tokens list\"\n",
    "\n",
    "print(\"Seems alright!\")"
   ]
  },
  {
   "cell_type": "code",
   "execution_count": 0,
   "metadata": {
    "colab": {},
    "colab_type": "code",
    "id": "aBcpo8DrSz55"
   },
   "outputs": [],
   "source": []
  },
  {
   "cell_type": "code",
   "execution_count": 0,
   "metadata": {
    "colab": {},
    "colab_type": "code",
    "id": "fHJd9Q7-Sz59"
   },
   "outputs": [],
   "source": [
    "# qtoken_to_id"
   ]
  },
  {
   "cell_type": "code",
   "execution_count": 0,
   "metadata": {
    "colab": {
     "base_uri": "https://localhost:8080/",
     "height": 151
    },
    "colab_type": "code",
    "id": "VBPXZmdTSz5_",
    "outputId": "a1cf528e-1eac-4eff-b121-f61a0cbfb13a"
   },
   "outputs": [
    {
     "name": "stdout",
     "output_type": "stream",
     "text": [
      "if you live to be a hundred  i want to live to be a hundred minus one day so i never have to live without you \n",
      "[[ 6.  7. 22. 23. 19. 20. 22. 21.  6.  8. 26. 22. 16. 19. 22. 11. 26. 22.\n",
      "  24. 22.  4. 20. 13. 10. 25. 26. 10. 22. 22.  6. 22.  2. 24. 13. 16. 22.\n",
      "  16. 19. 22. 21.  6.  8. 26. 22. 16. 19. 22. 11. 26. 22. 24. 22.  4. 20.\n",
      "  13. 10. 25. 26. 10. 22. 18.  6. 13. 20. 12. 22. 19. 13. 26. 22. 10. 24.\n",
      "  23. 22. 12. 19. 22.  6. 22. 13. 26.  8. 26. 25. 22.  4. 24.  8. 26. 22.\n",
      "  16. 19. 22. 21.  6.  8. 26. 22.  2.  6. 16.  4. 19. 20. 16. 22. 23. 19.\n",
      "  20. 22.]]\n"
     ]
    }
   ],
   "source": [
    "print('\\n'.join(quotes[:1]))\n",
    "print(to_matrix(quotes[:1], qtoken_to_id))"
   ]
  },
  {
   "cell_type": "code",
   "execution_count": null,
   "metadata": {
    "colab": {
     "base_uri": "https://localhost:8080/",
     "height": 390
    },
    "colab_type": "code",
    "id": "NDSybCzOSz6C",
    "outputId": "edfa0cc2-87b0-43d8-d0c1-a3568984c8af"
   },
   "outputs": [],
   "source": [
    "%%time\n",
    "device           = torch.device('cuda')\n",
    "n_in             = len(qtokens)\n",
    "n_res            = 800\n",
    "lin_size         = 30\n",
    "ro_hidden_layers = 3\n",
    "spec_radius      = 0.99\n",
    "density          = 0.01\n",
    "leaking_rate     = 1\n",
    "\n",
    "net = GenESN(n_in=n_in, n_res=n_res , n_out=len(qtokens), \n",
    "             ro_hidden_layers=ro_hidden_layers,\n",
    "             leaking_rate=leaking_rate, \n",
    "             spec_radius=spec_radius,\n",
    "             lin_size=lin_size, \n",
    "             density=density, \n",
    "             device=device) \n",
    "net.to(device)\n",
    "print(net)"
   ]
  },
  {
   "cell_type": "code",
   "execution_count": 0,
   "metadata": {
    "colab": {},
    "colab_type": "code",
    "id": "OtRtWzA2Sz6E"
   },
   "outputs": [],
   "source": [
    "lr = 1e-2\n",
    "opt = torch.optim.Adam(net.parameters(), lr=lr)\n",
    "MAX_QLENGTH = max(map(len, quotes))\n",
    "history = []"
   ]
  },
  {
   "cell_type": "code",
   "execution_count": 0,
   "metadata": {
    "colab": {},
    "colab_type": "code",
    "id": "2uSJHzjQbfCQ"
   },
   "outputs": [],
   "source": [
    "lr_scheduler = scheduler(opt, patience=200)"
   ]
  },
  {
   "cell_type": "code",
   "execution_count": 0,
   "metadata": {
    "colab": {},
    "colab_type": "code",
    "id": "OjJ3usgxc12S"
   },
   "outputs": [],
   "source": [
    "quotes = sorted(quotes, key=len, reverse=False)"
   ]
  },
  {
   "cell_type": "code",
   "execution_count": 0,
   "metadata": {
    "colab": {
     "base_uri": "https://localhost:8080/",
     "height": 34
    },
    "colab_type": "code",
    "id": "3NP3Z8MJ8wgS",
    "outputId": "2b6927c7-da67-4ee2-8278-ef5325b10a36"
   },
   "outputs": [
    {
     "data": {
      "text/plain": [
       "209"
      ]
     },
     "execution_count": 173,
     "metadata": {
      "tags": []
     },
     "output_type": "execute_result"
    }
   ],
   "source": [
    "len(quotes[20000])"
   ]
  },
  {
   "cell_type": "code",
   "execution_count": 0,
   "metadata": {
    "ExecuteTime": {
     "end_time": "2019-11-05T18:21:23.521061Z",
     "start_time": "2019-11-05T18:21:12.302892Z"
    },
    "colab": {
     "base_uri": "https://localhost:8080/",
     "height": 434
    },
    "colab_type": "code",
    "id": "Ey_1gqrBSz6G",
    "outputId": "b2a10d79-63dc-44de-9809-2a581d4cb1d7",
    "scrolled": false
   },
   "outputs": [
    {
     "data": {
      "image/png": "[encoded data removed]",
      "text/plain": [
       "<Figure size 864x468 with 1 Axes>"
      ]
     },
     "metadata": {
      "tags": []
     },
     "output_type": "display_data"
    },
    {
     "name": "stdout",
     "output_type": "stream",
     "text": [
      "CPU times: user 10min 36s, sys: 2.66 s, total: 10min 39s\n",
      "Wall time: 10min 40s\n"
     ]
    }
   ],
   "source": [
    "%%time\n",
    "n_epoch = 1500\n",
    "batch_size = 200\n",
    "\n",
    "trainESN(net, data=quotes[1000:20000], \n",
    "         n_epoch=n_epoch, \n",
    "         batch_size=batch_size, \n",
    "         lr_scheduler=lr_scheduler, \n",
    "         history=history, \n",
    "         random_batching=True,\n",
    "         MAX_LENGTH=MAX_QLENGTH, \n",
    "         tokens=qtokens, \n",
    "         token_to_id=qtoken_to_id)"
   ]
  },
  {
   "cell_type": "code",
   "execution_count": 0,
   "metadata": {
    "colab": {
     "base_uri": "https://localhost:8080/",
     "height": 689
    },
    "colab_type": "code",
    "id": "maqJS5DCSz6J",
    "outputId": "31c71321-ba9b-4c95-8c6a-10cb0df96738"
   },
   "outputs": [
    {
     "name": "stdout",
     "output_type": "stream",
     "text": [
      " home the  the rie core                                                                                                                                                                                                                                                                                                                                                                                                \n",
      "\n",
      " monere na lifea fore st the mesto                                                                                                                                                                                                                                                                                                                                                                                     \n",
      "\n",
      " weaking  in sti taull abe                                                                                                                                                                                                                                                                                                                                                                                             \n",
      "\n",
      " the oor ands conting                                                                                                                                                                                                                                                                                                                                                                                                  \n",
      "\n",
      " fealing ion to gertad  and                                                                                                                                                                                                                                                                                                                                                                                            \n",
      "\n",
      " houst have iomen land the racodus the antiog t                                                                                                                                                                                                                                                                                                                                                                        \n",
      "\n",
      " arericand  fore s in the                                                                                                                                                                                                                                                                                                                                                                                              \n",
      "\n",
      " are the wast whe                                                                                                                                                                                                                                                                                                                                                                                                      \n",
      "\n",
      " of there world and bilite                                                                                                                                                                                                                                                                                                                                                                                             \n",
      "\n",
      " when you se pean                                                                                                                                                                                                                                                                                                                                                                                                      \n",
      "\n",
      " heve the p and of oun is ir                                                                                                                                                                                                                                                                                                                                                                                           \n",
      "\n",
      " expering or the more  inke dore so be of the wor do the doen thit contaring  is the cand                                                                                                                                                                                                                                                                                                                              \n",
      "\n",
      " were it                                                                                                                                                                                                                                                                                                                                                                                                               \n",
      "\n",
      " when ite nold the cant no mo thet comper lere se pust anithay nould bit dof ind y and ithit                                                                                                                                                                                                                                                                                                                           \n",
      "\n",
      " have to be they arti s                                                                                                                                                                                                                                                                                                                                                                                                \n",
      "\n",
      " the mther way foon                                                                                                                                                                                                                                                                                                                                                                                                    \n",
      "\n",
      " there is as people in thi s is andu then the some  theyour  and it                                                                                                                                                                                                                                                                                                                                                    \n",
      "\n",
      " have who geverevery dion the whent of met in the aty  ou d ancemin fiom thatingound the stove  inm the fore  renome thang to nem ant of fithenr at allity fiome                                                                                                                                                                                                                                                       \n",
      "\n",
      " have bocke plof o love towe dor thang that she hapaby  iferis do sture                                                                                                                                                                                                                                                                                                                                                \n",
      "\n",
      " lo kerinjos                                                                                                                                                                                                                                                                                                                                                                                                           \n",
      "\n"
     ]
    }
   ],
   "source": [
    "for _ in range(100):\n",
    "    print(generate_sample(net, max_length=MAX_QLENGTH, \n",
    "                          tokens=qtokens,\n",
    "                          token_to_id=qtoken_to_id,\n",
    "                          temperature=0.6, \n",
    "                          seed_phrase=' '))\n",
    "    print()"
   ]
  },
  {
   "cell_type": "code",
   "execution_count": 0,
   "metadata": {
    "colab": {},
    "colab_type": "code",
    "id": "oC7dl2nZSz6L"
   },
   "outputs": [],
   "source": []
  },
  {
   "cell_type": "code",
   "execution_count": 0,
   "metadata": {
    "colab": {},
    "colab_type": "code",
    "id": "t5Y_Mb8uDIXj"
   },
   "outputs": [],
   "source": [
    "import numpy.random as rnd\n",
    "def create_random_rotation_matrix(n_reservoir):\n",
    "    h = rnd.randint(0, n_reservoir)\n",
    "    k = rnd.randint(0, n_reservoir)\n",
    "\n",
    "    phi = rnd.rand(1)*2*np.pi\n",
    "\n",
    "    Q = np.identity(n_reservoir)\n",
    "    Q[h, h] = np.cos(phi)\n",
    "    Q[k, k] = np.cos(phi)\n",
    "\n",
    "    Q[h, k] = -np.sin(phi)\n",
    "    Q[k, h] = np.sin(phi)\n",
    "\n",
    "    return Q\n",
    "\n",
    "def initiate_reservoir(_reservoirDensity, n_reservoir,_spectralRadius, device):\n",
    "  _w = np.identity(n_reservoir)\n",
    "  # _w = np.random.permutation(_w)\n",
    "  _W = torch.tensor(_w, requires_grad=False).to(device)\n",
    "\n",
    "  number_nonzero_elements = _reservoirDensity * n_reservoir * n_reservoir\n",
    "  while np.count_nonzero(_W.cpu().data) < number_nonzero_elements:\n",
    "        Q = torch.tensor(create_random_rotation_matrix(n_reservoir), requires_grad=False).to(device)\n",
    "        _W = torch.mm(Q, _W)\n",
    "  _W *= _spectralRadius\n",
    "  return _W"
   ]
  },
  {
   "cell_type": "code",
   "execution_count": 0,
   "metadata": {
    "colab": {
     "base_uri": "https://localhost:8080/",
     "height": 840
    },
    "colab_type": "code",
    "id": "0jFMrkUTGxyq",
    "outputId": "271ba9df-7ecc-4402-fa27-5e9a40a641cc"
   },
   "outputs": [
    {
     "name": "stdout",
     "output_type": "stream",
     "text": [
      "Params: {'density': 0.01, 'leaking_rate': 0.7, 'lin_size': 30, 'n_res': 800, 'ro_hidden_layers': 2}\n",
      "internal reservoir set\n",
      "Reservoir has 3088 non zero values (0.48%)\n",
      "Loss function value: 0.7799999713897705 \n",
      "\n",
      "Params: {'density': 0.01, 'leaking_rate': 0.7, 'lin_size': 30, 'n_res': 800, 'ro_hidden_layers': 3}\n",
      "internal reservoir set\n",
      "Reservoir has 3087 non zero values (0.48%)\n",
      "Loss function value: 0.800000011920929 \n",
      "\n",
      "Params: {'density': 0.01, 'leaking_rate': 0.7, 'lin_size': 30, 'n_res': 800, 'ro_hidden_layers': 4}\n",
      "internal reservoir set\n",
      "Reservoir has 3171 non zero values (0.50%)\n",
      "Loss function value: 0.7960000038146973 \n",
      "\n",
      "Params: {'density': 0.01, 'leaking_rate': 0.7, 'lin_size': 50, 'n_res': 800, 'ro_hidden_layers': 2}\n",
      "internal reservoir set\n",
      "Reservoir has 3115 non zero values (0.49%)\n",
      "Loss function value: 0.7749999761581421 \n",
      "\n",
      "Params: {'density': 0.01, 'leaking_rate': 0.7, 'lin_size': 50, 'n_res': 800, 'ro_hidden_layers': 3}\n",
      "internal reservoir set\n",
      "Reservoir has 3166 non zero values (0.49%)\n",
      "Loss function value: 0.7770000100135803 \n",
      "\n",
      "Params: {'density': 0.01, 'leaking_rate': 0.7, 'lin_size': 50, 'n_res': 800, 'ro_hidden_layers': 4}\n",
      "internal reservoir set\n",
      "Reservoir has 3256 non zero values (0.51%)\n",
      "Loss function value: 0.781000018119812 \n",
      "\n",
      "Params: {'density': 0.01, 'leaking_rate': 0.7, 'lin_size': 100, 'n_res': 800, 'ro_hidden_layers': 2}\n",
      "internal reservoir set\n",
      "Reservoir has 3104 non zero values (0.48%)\n",
      "Loss function value: 0.7450000047683716 \n",
      "\n",
      "Params: {'density': 0.01, 'leaking_rate': 0.7, 'lin_size': 100, 'n_res': 800, 'ro_hidden_layers': 3}\n",
      "internal reservoir set\n",
      "Reservoir has 3096 non zero values (0.48%)\n",
      "Loss function value: 0.7609999775886536 \n",
      "\n",
      "Params: {'density': 0.01, 'leaking_rate': 0.7, 'lin_size': 100, 'n_res': 800, 'ro_hidden_layers': 4}\n",
      "internal reservoir set\n",
      "Reservoir has 3114 non zero values (0.49%)\n",
      "Loss function value: 0.7649999856948853 \n",
      "\n",
      "Params: {'density': 0.01, 'leaking_rate': 0.8, 'lin_size': 30, 'n_res': 800, 'ro_hidden_layers': 2}\n",
      "internal reservoir set\n",
      "Reservoir has 3132 non zero values (0.49%)\n",
      "KeyboardInterrupt, stoping...\n"
     ]
    }
   ],
   "source": [
    "GridSearchOptimizer(data=quotes,MAX_LENGTH = MAX_QLENGTH,token_to_id=qtoken_to_id,tokens=qtokens, \n",
    "                    n_epoch=500, n_res=[800], in_out=(len(qtokens), len(qtokens)),\n",
    "                    lin_size=[30, 50, 100], leaking_rate=[ 0.7, 0.8, 0.9],\n",
    "                    density=[0.01], ro_hidden_layers=[2,3,4])"
   ]
  },
  {
   "cell_type": "code",
   "execution_count": 0,
   "metadata": {
    "colab": {},
    "colab_type": "code",
    "id": "qxpasn2V4puP"
   },
   "outputs": [],
   "source": [
    "1500 150 2 0.001"
   ]
  }
 ],
 "metadata": {
  "accelerator": "GPU",
  "colab": {
   "collapsed_sections": [],
   "name": "TextGenESN.ipynb",
   "provenance": []
  },
  "kernelspec": {
   "display_name": "Python 3",
   "language": "python",
   "name": "python3"
  },
  "language_info": {
   "codemirror_mode": {
    "name": "ipython",
    "version": 3
   },
   "file_extension": ".py",
   "mimetype": "text/x-python",
   "name": "python",
   "nbconvert_exporter": "python",
   "pygments_lexer": "ipython3",
   "version": "3.7.7"
  },
  "latex_envs": {
   "LaTeX_envs_menu_present": true,
   "autoclose": false,
   "autocomplete": true,
   "bibliofile": "biblio.bib",
   "cite_by": "apalike",
   "current_citInitial": 1,
   "eqLabelWithNumbers": true,
   "eqNumInitial": 1,
   "hotkeys": {
    "equation": "Ctrl-E",
    "itemize": "Ctrl-I"
   },
   "labels_anchors": false,
   "latex_user_defs": false,
   "report_style_numbering": false,
   "user_envs_cfg": false
  },
  "toc": {
   "base_numbering": 1,
   "nav_menu": {},
   "number_sections": true,
   "sideBar": true,
   "skip_h1_title": false,
   "title_cell": "Table of Contents",
   "title_sidebar": "Contents",
   "toc_cell": false,
   "toc_position": {},
   "toc_section_display": true,
   "toc_window_display": false
  }
 },
 "nbformat": 4,
 "nbformat_minor": 1
}
