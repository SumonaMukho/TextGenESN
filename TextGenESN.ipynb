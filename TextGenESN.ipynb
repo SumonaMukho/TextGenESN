{
 "cells": [
  {
   "cell_type": "code",
   "execution_count": 1,
   "metadata": {
    "colab": {},
    "colab_type": "code",
    "id": "BEbfjdmDL5b6"
   },
   "outputs": [],
   "source": [
    "# !git clone https://github.com/VirtualRoyalty/TextGenESN.git\n",
    "# %cd TextGenESN/\n",
    "%matplotlib inline\n",
    "import os\n",
    "import numpy as np\n",
    "import matplotlib.pyplot as plt\n",
    "import importlib as imp\n",
    "import torch\n",
    "import warnings\n",
    "warnings.simplefilter('ignore')"
   ]
  },
  {
   "cell_type": "markdown",
   "metadata": {
    "colab_type": "text",
    "id": "-LrYvUvnL5cR"
   },
   "source": [
    "## Dataset (males lastnames)\n",
    "About ~9k lastnames"
   ]
  },
  {
   "cell_type": "code",
   "execution_count": 3,
   "metadata": {
    "ExecuteTime": {
     "end_time": "2019-11-05T18:21:03.509714Z",
     "start_time": "2019-11-05T18:21:03.491489Z"
    },
    "colab": {},
    "colab_type": "code",
    "id": "uo-OQz60L5cT"
   },
   "outputs": [],
   "source": [
    "with open('datasets/russian_names.txt') as input_file:\n",
    "    names = input_file.read()[3:-1].split('\\n')\n",
    "    names = [' ' + line for line in names]"
   ]
  },
  {
   "cell_type": "code",
   "execution_count": 6,
   "metadata": {
    "ExecuteTime": {
     "end_time": "2019-11-05T18:21:03.946758Z",
     "start_time": "2019-11-05T18:21:03.938432Z"
    },
    "colab": {
     "base_uri": "https://localhost:8080/",
     "height": 34
    },
    "colab_type": "code",
    "id": "Yeus_UKoL5cb",
    "outputId": "ceabac59-c1f1-4fd8-ac01-4da0b31931b0"
   },
   "outputs": [
    {
     "data": {
      "text/plain": [
       "[' Abaev', ' Abagyan', ' Abaidulin', ' Abaidullin', ' Abaimoff']"
      ]
     },
     "execution_count": 6,
     "metadata": {},
     "output_type": "execute_result"
    }
   ],
   "source": [
    "names[:5]"
   ]
  },
  {
   "cell_type": "markdown",
   "metadata": {
    "colab_type": "text",
    "id": "oJ0P9oX1L5ci"
   },
   "source": [
    "Name length ditribution"
   ]
  },
  {
   "cell_type": "code",
   "execution_count": 7,
   "metadata": {
    "ExecuteTime": {
     "end_time": "2019-11-05T18:21:05.420060Z",
     "start_time": "2019-11-05T18:21:05.179513Z"
    },
    "colab": {
     "base_uri": "https://localhost:8080/",
     "height": 281
    },
    "colab_type": "code",
    "id": "wYMaHO6cL5cl",
    "outputId": "67f9ae8b-b99a-48e3-c3ae-e7eb963da0bd"
   },
   "outputs": [
    {
     "data": {
      "image/png": "[encoded data removed]",
      "text/plain": [
       "<Figure size 432x288 with 1 Axes>"
      ]
     },
     "metadata": {
      "needs_background": "light"
     },
     "output_type": "display_data"
    }
   ],
   "source": [
    "plt.title('Name length distribution')\n",
    "plt.hist(list(map(len, names)), bins=19)\n",
    "plt.grid()\n",
    "pass"
   ]
  },
  {
   "cell_type": "markdown",
   "metadata": {
    "colab_type": "text",
    "id": "n7_-YV10L5cq"
   },
   "source": [
    "## Preprocessing"
   ]
  },
  {
   "cell_type": "code",
   "execution_count": 8,
   "metadata": {
    "ExecuteTime": {
     "end_time": "2019-11-05T18:21:07.335188Z",
     "start_time": "2019-11-05T18:21:07.320148Z"
    },
    "colab": {
     "base_uri": "https://localhost:8080/",
     "height": 34
    },
    "colab_type": "code",
    "id": "PM-Kd2qxL5cs",
    "outputId": "11f85a60-729e-4199-bd93-fe2243e97e6d"
   },
   "outputs": [
    {
     "name": "stdout",
     "output_type": "stream",
     "text": [
      "num_tokens =  51 21\n"
     ]
    }
   ],
   "source": [
    "#all unique characters go here\n",
    "tokens     = list(set(''.join(names)))\n",
    "num_tokens = len(tokens)\n",
    "MAX_LENGTH = max(map(len, names))\n",
    "print ('num_tokens = ', num_tokens, MAX_LENGTH)"
   ]
  },
  {
   "cell_type": "markdown",
   "metadata": {
    "colab_type": "text",
    "id": "29_95GTsL5cv"
   },
   "source": [
    "### Character -> id"
   ]
  },
  {
   "cell_type": "code",
   "execution_count": 9,
   "metadata": {
    "ExecuteTime": {
     "end_time": "2019-11-05T18:21:07.674548Z",
     "start_time": "2019-11-05T18:21:07.671129Z"
    },
    "colab": {},
    "colab_type": "code",
    "id": "S-3UuOVHL5cw"
   },
   "outputs": [],
   "source": [
    "token_to_id = {token: idx for idx, token in enumerate(tokens)}"
   ]
  },
  {
   "cell_type": "code",
   "execution_count": 10,
   "metadata": {
    "ExecuteTime": {
     "end_time": "2019-11-05T18:21:07.838814Z",
     "start_time": "2019-11-05T18:21:07.833611Z"
    },
    "colab": {
     "base_uri": "https://localhost:8080/",
     "height": 34
    },
    "colab_type": "code",
    "id": "tUNhK1dqL5cz",
    "outputId": "a1442416-9ed4-448a-c71b-9b4dfb507f0a"
   },
   "outputs": [
    {
     "name": "stdout",
     "output_type": "stream",
     "text": [
      "Seems alright!\n"
     ]
    }
   ],
   "source": [
    "assert len(tokens) == len(token_to_id), \"dictionaries must have same size\"\n",
    "for i in range(num_tokens):\n",
    "    assert token_to_id[tokens[i]] == i, \"token identifier must be it's position in tokens list\"\n",
    "print(\"Seems alright!\")"
   ]
  },
  {
   "cell_type": "code",
   "execution_count": 11,
   "metadata": {
    "ExecuteTime": {
     "end_time": "2019-11-05T18:21:08.136936Z",
     "start_time": "2019-11-05T18:21:08.131609Z"
    },
    "colab": {
     "base_uri": "https://localhost:8080/",
     "height": 185
    },
    "colab_type": "code",
    "id": "XuvQGEfmL5c6",
    "outputId": "5bdd50d9-933f-457c-876f-ba175480c309"
   },
   "outputs": [
    {
     "name": "stdout",
     "output_type": "stream",
     "text": [
      " Abaev\n",
      " Chihanchin\n",
      " Isakov\n",
      " Nakhamkis\n",
      " Utugunov\n",
      "[[47. 39. 41. 50. 19. 10. 47. 47. 47. 47. 47.]\n",
      " [47. 33. 13. 38. 13. 50. 32.  4. 13. 38. 32.]\n",
      " [47. 44. 15. 50. 28. 35. 10. 47. 47. 47. 47.]\n",
      " [47. 36. 50. 28. 13. 50.  8. 28. 38. 15. 47.]\n",
      " [47. 12. 11.  2.  5.  2. 32. 35. 10. 47. 47.]]\n"
     ]
    }
   ],
   "source": [
    "from utils import train\n",
    "train = imp.reload(train)\n",
    "print('\\n'.join(names[::2000]))\n",
    "print(train.to_matrix(names[::2000], token_to_id))"
   ]
  },
  {
   "cell_type": "markdown",
   "metadata": {
    "colab_type": "text",
    "id": "9DWlOUj-L5c9"
   },
   "source": [
    "## Echo State Network with SORM"
   ]
  },
  {
   "cell_type": "markdown",
   "metadata": {
    "colab_type": "text",
    "id": "5jrSOejdfNNJ"
   },
   "source": [
    "### Create ESN instance"
   ]
  },
  {
   "cell_type": "code",
   "execution_count": 12,
   "metadata": {
    "colab": {
     "base_uri": "https://localhost:8080/",
     "height": 185
    },
    "colab_type": "code",
    "id": "vmLA-PHrRZ6I",
    "outputId": "067390b4-4b69-4b72-d0ac-4f6e2909b24e"
   },
   "outputs": [
    {
     "name": "stdout",
     "output_type": "stream",
     "text": [
      "Internal reservoir set\n",
      "Reservoir has 2549 non zero values (1.59%)\n",
      "GenESN(\n",
      "  (readout_in): Linear(in_features=400, out_features=64, bias=True)\n",
      "  (readout_out): Linear(in_features=64, out_features=51, bias=True)\n",
      "  (dropout): Dropout(p=0.1, inplace=False)\n",
      "  (softmax): LogSoftmax()\n",
      ")\n",
      "Wall time: 12.6 s\n"
     ]
    }
   ],
   "source": [
    "%%time\n",
    "from net import esn\n",
    "import importlib as imp\n",
    "esn = imp.reload(esn)\n",
    "\n",
    "\n",
    "device           = torch.device('cuda')\n",
    "n_in             = len(tokens)\n",
    "n_res            = 400\n",
    "lin_size         = 64\n",
    "leaking_rate     = 0.9\n",
    "ro_hidden_layers = 1\n",
    "spec_radius      = 0.99\n",
    "density          = 0.05\n",
    "\n",
    "\n",
    "net = esn.GenESN(n_in=n_in, n_res=n_res , n_out=n_in, \n",
    "                 ro_hidden_layers=ro_hidden_layers,\n",
    "                 leaking_rate=leaking_rate, \n",
    "                 spec_radius=spec_radius,\n",
    "                 lin_size=lin_size, \n",
    "                 density=density, \n",
    "                 device=device) \n",
    "\n",
    "net.to(device)\n",
    "print(net)"
   ]
  },
  {
   "cell_type": "code",
   "execution_count": 13,
   "metadata": {
    "colab": {},
    "colab_type": "code",
    "id": "7oWZJhKbDUh2"
   },
   "outputs": [],
   "source": [
    "lr           = 1e-3\n",
    "opt          = torch.optim.Adam(net.parameters(), lr=lr)\n",
    "lr_scheduler = train.scheduler(opt, patience=200)\n",
    "MAX_LENGTH   = max(map(len, names))\n",
    "history      = []"
   ]
  },
  {
   "cell_type": "code",
   "execution_count": 14,
   "metadata": {
    "ExecuteTime": {
     "end_time": "2019-11-05T18:21:23.521061Z",
     "start_time": "2019-11-05T18:21:12.302892Z"
    },
    "colab": {
     "base_uri": "https://localhost:8080/",
     "height": 434
    },
    "colab_type": "code",
    "id": "tll_fV_SL5dT",
    "outputId": "c5f170d3-03ae-4879-e9be-bf44e6e2d140",
    "scrolled": false
   },
   "outputs": [
    {
     "data": {
      "image/png": "[encoded data removed]",
      "text/plain": [
       "<Figure size 936x468 with 1 Axes>"
      ]
     },
     "metadata": {
      "needs_background": "light"
     },
     "output_type": "display_data"
    },
    {
     "name": "stdout",
     "output_type": "stream",
     "text": [
      "Wall time: 40 s\n"
     ]
    }
   ],
   "source": [
    "%%time\n",
    "train = imp.reload(train)\n",
    "\n",
    "n_epoch    = 500\n",
    "batch_size = 300\n",
    "\n",
    "train.trainESN(net, \n",
    "               data=names,\n",
    "               tokens=tokens,\n",
    "               token_to_id=token_to_id,\n",
    "               max_length=MAX_LENGTH,\n",
    "               n_epoch=n_epoch, \n",
    "               batch_size=batch_size, \n",
    "               opt=opt,\n",
    "               lr_scheduler=lr_scheduler, \n",
    "               history=history, \n",
    "               legend=False)"
   ]
  },
  {
   "cell_type": "markdown",
   "metadata": {
    "colab_type": "text",
    "id": "oPnVoXRdL5dW"
   },
   "source": [
    "### ESN generating"
   ]
  },
  {
   "cell_type": "code",
   "execution_count": 15,
   "metadata": {
    "ExecuteTime": {
     "end_time": "2019-11-05T18:21:23.625562Z",
     "start_time": "2019-11-05T18:21:23.544968Z"
    },
    "colab": {
     "base_uri": "https://localhost:8080/",
     "height": 185
    },
    "colab_type": "code",
    "id": "zHe1CZVNL5da",
    "outputId": "dad864fc-ff01-45c2-bd9d-5b8609599641"
   },
   "outputs": [
    {
     "name": "stdout",
     "output_type": "stream",
     "text": [
      " Uoraekh             \n",
      " Halon               \n",
      " Rasydin             \n",
      " Tadon               \n",
      " Awdilelib           \n",
      " Valedov             \n",
      " Zhky                \n",
      " Hlov                \n",
      " Jukhtulov           \n",
      " Lysyakimykyin       \n"
     ]
    }
   ],
   "source": [
    "from utils import gen\n",
    "gen = imp.reload(gen)\n",
    "\n",
    "for _ in range(10):\n",
    "    print(gen.generate_sample(net, \n",
    "                              max_length=MAX_LENGTH,\n",
    "                              tokens=tokens,\n",
    "                              token_to_id=token_to_id,\n",
    "                              temperature=0.9, \n",
    "                              seed_phrase=' '))"
   ]
  },
  {
   "cell_type": "code",
   "execution_count": 17,
   "metadata": {
    "ExecuteTime": {
     "end_time": "2019-11-05T18:21:23.702249Z",
     "start_time": "2019-11-05T18:21:23.629226Z"
    },
    "colab": {
     "base_uri": "https://localhost:8080/",
     "height": 185
    },
    "colab_type": "code",
    "id": "ORyESEhwL5de",
    "outputId": "ebf43565-8890-43e3-bdf8-9fc2efc76019"
   },
   "outputs": [
    {
     "name": "stdout",
     "output_type": "stream",
     "text": [
      " Alpodenko           \n",
      " Alpangin            \n",
      " Alpaskins           \n",
      " Alpazmin            \n",
      " Alpaneesyadov       \n",
      " Alpmaov             \n",
      " Alpetdov            \n",
      " Alpareks            \n",
      " Alpapdin            \n",
      " Alpin              c\n"
     ]
    }
   ],
   "source": [
    "for _ in range(10):\n",
    "    print(gen.generate_sample(net, \n",
    "                              max_length=MAX_LENGTH,\n",
    "                              tokens=tokens,\n",
    "                              token_to_id=token_to_id,\n",
    "                              temperature=0.95, \n",
    "                              seed_phrase=' Alp'))"
   ]
  },
  {
   "cell_type": "markdown",
   "metadata": {
    "colab_type": "text",
    "id": "1E8dIW-LkMTH"
   },
   "source": [
    "### GridSearch Optimization hyperparams"
   ]
  },
  {
   "cell_type": "code",
   "execution_count": 117,
   "metadata": {
    "colab": {
     "base_uri": "https://localhost:8080/",
     "height": 195
    },
    "colab_type": "code",
    "id": "YjN_FUZikMTL",
    "outputId": "e65a8b50-158d-464a-97cd-bd7e05822a8b",
    "scrolled": false
   },
   "outputs": [
    {
     "name": "stdout",
     "output_type": "stream",
     "text": [
      "Params: {'density': 0.05, 'leaking_rate': 0.6, 'lin_size': 64, 'n_res': 300, 'ro_hidden_layers': 1}\n",
      "Internal reservoir set\n",
      "Reservoir has 1692 non zero values (1.88%)\n",
      "Loss function value: 0.9419999718666077 \n",
      "\n",
      "Params: {'density': 0.05, 'leaking_rate': 0.6, 'lin_size': 64, 'n_res': 300, 'ro_hidden_layers': 2}\n",
      "Internal reservoir set\n",
      "Reservoir has 1447 non zero values (1.61%)\n",
      "Loss function value: 0.9290000200271606 \n",
      "\n",
      "Params: {'density': 0.05, 'leaking_rate': 0.6, 'lin_size': 64, 'n_res': 300, 'ro_hidden_layers': 3}\n",
      "Internal reservoir set\n",
      "Reservoir has 1574 non zero values (1.75%)\n",
      "Loss function value: 0.9409999847412109 \n",
      "\n",
      "Params: {'density': 0.05, 'leaking_rate': 0.6, 'lin_size': 100, 'n_res': 300, 'ro_hidden_layers': 1}\n",
      "Internal reservoir set\n",
      "Reservoir has 1593 non zero values (1.77%)\n",
      "Loss function value: 0.9269999861717224 \n",
      "\n",
      "Params: {'density': 0.05, 'leaking_rate': 0.6, 'lin_size': 100, 'n_res': 300, 'ro_hidden_layers': 2}\n",
      "Internal reservoir set\n",
      "Reservoir has 1571 non zero values (1.75%)\n",
      "Loss function value: 0.9160000085830688 \n",
      "\n",
      "Params: {'density': 0.05, 'leaking_rate': 0.6, 'lin_size': 100, 'n_res': 300, 'ro_hidden_layers': 3}\n",
      "Internal reservoir set\n",
      "Reservoir has 1653 non zero values (1.84%)\n",
      "Loss function value: 0.9269999861717224 \n",
      "\n",
      "Params: {'density': 0.05, 'leaking_rate': 0.6, 'lin_size': 210, 'n_res': 300, 'ro_hidden_layers': 1}\n",
      "Internal reservoir set\n",
      "Reservoir has 1480 non zero values (1.64%)\n",
      "Loss function value: 0.9079999923706055 \n",
      "\n",
      "Params: {'density': 0.05, 'leaking_rate': 0.6, 'lin_size': 210, 'n_res': 300, 'ro_hidden_layers': 2}\n",
      "Internal reservoir set\n",
      "Reservoir has 1576 non zero values (1.75%)\n",
      "Loss function value: 0.9039999842643738 \n",
      "\n",
      "Params: {'density': 0.05, 'leaking_rate': 0.6, 'lin_size': 210, 'n_res': 300, 'ro_hidden_layers': 3}\n",
      "Internal reservoir set\n",
      "Reservoir has 1564 non zero values (1.74%)\n",
      "Loss function value: 0.902999997138977 \n",
      "\n",
      "Params: {'density': 0.05, 'leaking_rate': 0.9, 'lin_size': 64, 'n_res': 300, 'ro_hidden_layers': 1}\n",
      "Internal reservoir set\n",
      "Reservoir has 1632 non zero values (1.81%)\n",
      "Loss function value: 0.9229999780654907 \n",
      "\n",
      "Params: {'density': 0.05, 'leaking_rate': 0.9, 'lin_size': 64, 'n_res': 300, 'ro_hidden_layers': 2}\n",
      "Internal reservoir set\n",
      "Reservoir has 1637 non zero values (1.82%)\n",
      "Loss function value: 0.9200000166893005 \n",
      "\n",
      "Params: {'density': 0.05, 'leaking_rate': 0.9, 'lin_size': 64, 'n_res': 300, 'ro_hidden_layers': 3}\n",
      "Internal reservoir set\n",
      "Reservoir has 1585 non zero values (1.76%)\n",
      "Loss function value: 0.921999990940094 \n",
      "\n",
      "Params: {'density': 0.05, 'leaking_rate': 0.9, 'lin_size': 100, 'n_res': 300, 'ro_hidden_layers': 1}\n",
      "Internal reservoir set\n",
      "Reservoir has 1567 non zero values (1.74%)\n",
      "Loss function value: 0.9110000133514404 \n",
      "\n",
      "Params: {'density': 0.05, 'leaking_rate': 0.9, 'lin_size': 100, 'n_res': 300, 'ro_hidden_layers': 2}\n",
      "Internal reservoir set\n",
      "Reservoir has 1552 non zero values (1.72%)\n",
      "Loss function value: 0.906000018119812 \n",
      "\n",
      "Params: {'density': 0.05, 'leaking_rate': 0.9, 'lin_size': 100, 'n_res': 300, 'ro_hidden_layers': 3}\n",
      "Internal reservoir set\n",
      "Reservoir has 1666 non zero values (1.85%)\n",
      "Loss function value: 0.9089999794960022 \n",
      "\n",
      "Params: {'density': 0.05, 'leaking_rate': 0.9, 'lin_size': 210, 'n_res': 300, 'ro_hidden_layers': 1}\n",
      "Internal reservoir set\n",
      "Reservoir has 1531 non zero values (1.70%)\n",
      "Loss function value: 0.8999999761581421 \n",
      "\n",
      "Params: {'density': 0.05, 'leaking_rate': 0.9, 'lin_size': 210, 'n_res': 300, 'ro_hidden_layers': 2}\n",
      "Internal reservoir set\n",
      "Reservoir has 1511 non zero values (1.68%)\n",
      "Loss function value: 0.8899999856948853 \n",
      "\n",
      "Params: {'density': 0.05, 'leaking_rate': 0.9, 'lin_size': 210, 'n_res': 300, 'ro_hidden_layers': 3}\n",
      "Internal reservoir set\n",
      "Reservoir has 1608 non zero values (1.79%)\n",
      "Loss function value: 0.8870000243186951 \n",
      "\n",
      "Params: {'density': 0.1, 'leaking_rate': 0.6, 'lin_size': 64, 'n_res': 300, 'ro_hidden_layers': 1}\n",
      "Internal reservoir set\n",
      "Reservoir has 2761 non zero values (3.07%)\n",
      "Loss function value: 0.9419999718666077 \n",
      "\n",
      "Params: {'density': 0.1, 'leaking_rate': 0.6, 'lin_size': 64, 'n_res': 300, 'ro_hidden_layers': 2}\n",
      "Internal reservoir set\n",
      "Reservoir has 2500 non zero values (2.78%)\n",
      "Loss function value: 0.9359999895095825 \n",
      "\n",
      "Params: {'density': 0.1, 'leaking_rate': 0.6, 'lin_size': 64, 'n_res': 300, 'ro_hidden_layers': 3}\n",
      "Internal reservoir set\n",
      "Reservoir has 2547 non zero values (2.83%)\n",
      "Loss function value: 0.9369999766349792 \n",
      "\n",
      "Params: {'density': 0.1, 'leaking_rate': 0.6, 'lin_size': 100, 'n_res': 300, 'ro_hidden_layers': 1}\n",
      "Internal reservoir set\n",
      "Reservoir has 2455 non zero values (2.73%)\n",
      "Loss function value: 0.9340000152587891 \n",
      "\n",
      "Params: {'density': 0.1, 'leaking_rate': 0.6, 'lin_size': 100, 'n_res': 300, 'ro_hidden_layers': 2}\n",
      "Internal reservoir set\n",
      "Reservoir has 2332 non zero values (2.59%)\n",
      "Loss function value: 0.921999990940094 \n",
      "\n",
      "Params: {'density': 0.1, 'leaking_rate': 0.6, 'lin_size': 100, 'n_res': 300, 'ro_hidden_layers': 3}\n",
      "Internal reservoir set\n",
      "Reservoir has 2800 non zero values (3.11%)\n",
      "KeyboardInterrupt, stoping...\n"
     ]
    }
   ],
   "source": [
    "from utils import optimizer\n",
    "optimizer = imp.reload(optimizer)\n",
    "\n",
    "\n",
    "optimizer.GridSearchOptimizer(esn.GenESN,\n",
    "                              data=names,\n",
    "                              n_epoch=500,\n",
    "                              batch_size=300,\n",
    "                              max_length=MAX_LENGTH,\n",
    "                              tokens=tokens,\n",
    "                              token_to_id=token_to_id,\n",
    "                              in_out=(len(tokens), len(tokens)),\n",
    "                              learning_rate=1e-3,\n",
    "                              n_res=[300],\n",
    "                              lin_size=[64, 100, 210],\n",
    "                              density=[0.05, 0.1, 0.2],\n",
    "                              ro_hidden_layers=[1, 2, 3],\n",
    "                              leaking_rate=[0.6, 0.9])"
   ]
  },
  {
   "cell_type": "markdown",
   "metadata": {
    "colab_type": "text",
    "collapsed": true,
    "id": "oXasIgZEL5dh"
   },
   "source": [
    "### RNN implementation"
   ]
  },
  {
   "cell_type": "code",
   "execution_count": 18,
   "metadata": {
    "colab": {},
    "colab_type": "code",
    "id": "PknuVyCXWaaY"
   },
   "outputs": [],
   "source": [
    "import numpy as np\n",
    "from random import sample\n",
    "import torch, torch.nn as nn\n",
    "import torch.nn.functional as F\n",
    "import torch.optim as optim\n",
    "import matplotlib.pyplot as plt\n",
    "from torch.autograd import Variable\n",
    "from IPython.display import clear_output\n",
    "\n",
    "class CharRNNCell(nn.Module):\n",
    "    \n",
    "    def __init__(self, \n",
    "                 num_tokens=len(tokens), \n",
    "                 embedding_size=16, \n",
    "                 rnn_num_units=64, \n",
    "                 device = torch.device('cuda:0')):\n",
    "        super(self.__class__,self).__init__()\n",
    "        \n",
    "        self.num_units     = rnn_num_units\n",
    "        self.embedding     = nn.Embedding(num_tokens, embedding_size).to(device)\n",
    "        self.rnn_update    = nn.Linear(embedding_size + rnn_num_units, rnn_num_units).to(device)\n",
    "        self.rnn_to_logits = nn.Linear(rnn_num_units, num_tokens).to(device)\n",
    "        \n",
    "    def forward(self, x, h_prev):\n",
    "        x_emb = self.embedding(x).to(device)\n",
    "        \n",
    "        x_and_h = torch.cat([x_emb, h_prev], dim=1) \n",
    "        h_next  = self.rnn_update(x_and_h)         \n",
    "        h_next  = F.tanh(h_next)\n",
    "        \n",
    "        logits = self.rnn_to_logits(h_next)\n",
    "        \n",
    "        return h_next, F.log_softmax(logits, -1)\n",
    "    \n",
    "    def initial_state(self, batch_size):\n",
    "        return Variable(torch.zeros(batch_size, self.num_units))"
   ]
  },
  {
   "cell_type": "code",
   "execution_count": 19,
   "metadata": {
    "colab": {},
    "colab_type": "code",
    "id": "OW7U24l5Wppx"
   },
   "outputs": [],
   "source": [
    "def rnn_loop(rnn, batch_index):\n",
    "    batch_size, max_length = batch_index.size()\n",
    "    hid_state = rnn.initial_state(batch_size).to(device)\n",
    "    logprobs = []\n",
    "    for x_t in batch_index.transpose(0, 1):\n",
    "        hid_state, logp_next = rnn(x_t.to(device), hid_state.to(device))  \n",
    "        logprobs.append(logp_next)\n",
    "    return torch.stack(logprobs, dim=1)"
   ]
  },
  {
   "cell_type": "code",
   "execution_count": 20,
   "metadata": {
    "ExecuteTime": {
     "end_time": "2019-11-05T18:21:31.468107Z",
     "start_time": "2019-11-05T18:21:23.792092Z"
    },
    "colab": {},
    "colab_type": "code",
    "id": "PljEglKFL5dn"
   },
   "outputs": [],
   "source": [
    "def trainRNN(rnn, \n",
    "             n_epoch=500, \n",
    "             batch_size=300, \n",
    "             random_batching=True,\n",
    "             max_length=MAX_LENGTH):\n",
    "\n",
    "    for i in range(n_epoch):\n",
    "        if random_batching:\n",
    "            batch_ix = train.to_matrix(sample(names, batch_size), token_to_id, max_len=max_length)\n",
    "            batch_ix = torch.tensor(batch_ix, dtype=torch.int64)\n",
    "\n",
    "            logp_seq = rnn_loop(rnn, batch_ix)\n",
    "\n",
    "            predictions_logp   = logp_seq[:, :-1].to(device)\n",
    "            actual_next_tokens = batch_ix[:, 1:].to(device)\n",
    "            \n",
    "            loss = -torch.mean(torch.gather(predictions_logp, dim=2, index=actual_next_tokens[:, :, None]))\n",
    "            loss.backward()\n",
    "            opt.step()\n",
    "            opt.zero_grad()\n",
    "\n",
    "            history.append(loss.data.cpu().numpy())\n",
    "            if (i + 1) % 100 == 0:\n",
    "                clear_output(True)\n",
    "                plt.figure(figsize=(13, 6.5))\n",
    "                plt.grid()\n",
    "                plt.plot(history, '.-', label='loss')\n",
    "                plt.legend()\n",
    "                plt.title('The loss function of Vanilla RNN')\n",
    "                plt.show()\n",
    "\n",
    "    assert np.mean(history[:10]) > np.mean(history[-10:]), \"RNN didn't converge.\""
   ]
  },
  {
   "cell_type": "code",
   "execution_count": 21,
   "metadata": {
    "colab": {},
    "colab_type": "code",
    "id": "TV_mQYKLWzM2"
   },
   "outputs": [],
   "source": [
    "char_rnn = CharRNNCell()\n",
    "opt      = torch.optim.Adam(char_rnn.parameters())\n",
    "history  = []"
   ]
  },
  {
   "cell_type": "code",
   "execution_count": 22,
   "metadata": {
    "colab": {
     "base_uri": "https://localhost:8080/",
     "height": 293
    },
    "colab_type": "code",
    "id": "FPOrn-ywkMTZ",
    "outputId": "760e87f6-54e7-4db4-b355-1938c2b0d161"
   },
   "outputs": [
    {
     "data": {
      "image/png": "[encoded data removed]",
      "text/plain": [
       "<Figure size 936x468 with 1 Axes>"
      ]
     },
     "metadata": {
      "needs_background": "light"
     },
     "output_type": "display_data"
    },
    {
     "name": "stdout",
     "output_type": "stream",
     "text": [
      "Wall time: 24.6 s\n"
     ]
    }
   ],
   "source": [
    "%%time\n",
    "trainRNN(char_rnn, n_epoch=500, batch_size=300)"
   ]
  },
  {
   "cell_type": "code",
   "execution_count": 23,
   "metadata": {
    "colab": {},
    "colab_type": "code",
    "id": "sZRawgPWGBQ7"
   },
   "outputs": [],
   "source": [
    "def generate_sample_rnn(char_rnn, \n",
    "                        seed_phrase=' ', \n",
    "                        max_length=MAX_LENGTH, \n",
    "                        temperature=1.0,\n",
    "                        enforce_end=False, \n",
    "                        device=torch.device('cuda')): \n",
    "    \n",
    "    x_sequence = [token_to_id[token] for token in seed_phrase]\n",
    "    x_sequence = torch.tensor([x_sequence], dtype=torch.int64).to(device)\n",
    "    hid_state  = char_rnn.initial_state(batch_size=1).to(device)\n",
    "    \n",
    "    for i in range(len(seed_phrase) - 1):\n",
    "        hid_state, _ = char_rnn(x_sequence[:, i], hid_state)\n",
    "    \n",
    "    for _ in range(max_length - len(seed_phrase)):\n",
    "        \n",
    "        hid_state, logp_next = char_rnn(x_sequence[:, -1], hid_state)\n",
    "        \n",
    "        p_next = F.softmax(logp_next / temperature, dim=-1).data.cpu().numpy()[0]\n",
    "        \n",
    "        next_ix = np.random.choice(len(tokens), p=p_next)\n",
    "        next_ix = torch.tensor([[next_ix]], dtype=torch.int64).to(device)\n",
    "        \n",
    "        if enforce_end and tokens[next_ix] == ' ':\n",
    "            break\n",
    "        x_sequence = torch.cat([x_sequence, next_ix], dim=1)\n",
    "       \n",
    "        \n",
    "    return ''.join([tokens[ix] for ix in x_sequence.data.cpu().numpy()[0]])"
   ]
  },
  {
   "cell_type": "code",
   "execution_count": 24,
   "metadata": {
    "ExecuteTime": {
     "end_time": "2019-11-05T18:21:31.526436Z",
     "start_time": "2019-11-05T18:21:31.469965Z"
    },
    "colab": {
     "base_uri": "https://localhost:8080/",
     "height": 185
    },
    "colab_type": "code",
    "id": "Xw-3R-9QL5dq",
    "outputId": "0d9ce7c4-1c66-43f0-a6b6-841d87a21355"
   },
   "outputs": [
    {
     "name": "stdout",
     "output_type": "stream",
     "text": [
      " Alpero              \n",
      " Alperov             \n",
      " Alperovsev          \n",
      " Alperorilanko       \n",
      " Alperov             \n",
      " Alperov             \n",
      " Alperovsky          \n",
      " Alperov             \n",
      " Alperovsky          \n",
      " Alpero  e           \n"
     ]
    }
   ],
   "source": [
    "for _ in range(10):\n",
    "    print(generate_sample_rnn(char_rnn,temperature=0.9,seed_phrase=' Alpero'))"
   ]
  },
  {
   "cell_type": "markdown",
   "metadata": {
    "colab_type": "text",
    "id": "6jy4GwHCkMTk"
   },
   "source": [
    "### Evaluate and compare generated results. Vanilla RNN VS ESN"
   ]
  },
  {
   "cell_type": "code",
   "execution_count": 46,
   "metadata": {
    "colab": {},
    "colab_type": "code",
    "id": "ENXDq5UkkMTl"
   },
   "outputs": [],
   "source": [
    "from nltk.translate.bleu_score import SmoothingFunction, sentence_bleu\n",
    "from nltk import bleu\n",
    "from Levenshtein import ratio"
   ]
  },
  {
   "cell_type": "code",
   "execution_count": 29,
   "metadata": {
    "colab": {},
    "colab_type": "code",
    "id": "MWxevru6kMTo"
   },
   "outputs": [],
   "source": [
    "n_gen = 10\n",
    "t     = 0.9\n",
    "rnn_generated = [generate_sample_rnn(char_rnn, \n",
    "                                     seed_phrase=' ', \n",
    "                                     temperature=t, \n",
    "                                     enforce_end=True) \\\n",
    "                 for x in range(n_gen)]\n",
    "esn_generated = [gen.generate_sample(net, \n",
    "                                     max_length=MAX_LENGTH,\n",
    "                                     tokens=tokens,\n",
    "                                     token_to_id=token_to_id,\n",
    "                                     seed_phrase=' ', \n",
    "                                     temperature=t, \n",
    "                                     enforce_end=True) \\\n",
    "                 for x in range(n_gen)]"
   ]
  },
  {
   "cell_type": "code",
   "execution_count": 30,
   "metadata": {
    "colab": {
     "base_uri": "https://localhost:8080/",
     "height": 34
    },
    "colab_type": "code",
    "id": "ljs5KDOJkMTr",
    "outputId": "789b9250-8d86-4ddb-b0ed-2b7d0ef29031"
   },
   "outputs": [
    {
     "data": {
      "text/plain": [
       "([' Vidshin', ' Vyuholich', ' RoLonin'], [' Balantovy', ' Yasky', ' Antseki'])"
      ]
     },
     "execution_count": 30,
     "metadata": {},
     "output_type": "execute_result"
    }
   ],
   "source": [
    "rnn_generated[:3], esn_generated[:3]"
   ]
  },
  {
   "cell_type": "code",
   "execution_count": 49,
   "metadata": {
    "colab": {},
    "colab_type": "code",
    "id": "v40VzSiVkMTu"
   },
   "outputs": [],
   "source": [
    "def evaluate_gen(reference, candidates, is_sentence_bleu=False):\n",
    "    sm_f      = SmoothingFunction()\n",
    "    min_bleu  = 1\n",
    "    score_lst = []\n",
    "    for candidate in candidates:\n",
    "        if is_sentence_bleu:\n",
    "            score_lst.append(sentence_bleu(reference, candidate))\n",
    "        else:\n",
    "            score_lst.append(np.mean([bleu(ref, candidate, smoothing_function=sm_f.method1) \n",
    "                                      for ref in reference]))\n",
    "    return score_lst\n",
    "\n",
    "def evaluate_gen_lev(reference, candidates, is_sentence_bleu=False):\n",
    "    sm_f      = SmoothingFunction()\n",
    "    min_bleu  = 1\n",
    "    score_lst = []\n",
    "    for candidate in candidates:\n",
    "        score_lst.append(np.mean([ratio(ref, candidate) \n",
    "                                      for ref in reference]))\n",
    "    return score_lst\n",
    "        "
   ]
  },
  {
   "cell_type": "code",
   "execution_count": 50,
   "metadata": {
    "colab": {
     "base_uri": "https://localhost:8080/",
     "height": 67
    },
    "colab_type": "code",
    "id": "8pO7WXZmkMT5",
    "outputId": "0bde9355-2156-4bce-f764-0adadedb4321"
   },
   "outputs": [
    {
     "name": "stdout",
     "output_type": "stream",
     "text": [
      "Wall time: 301 ms\n",
      "Eval mean: 0.329 Eval min: 0.197 Eval max: 0.416\n"
     ]
    }
   ],
   "source": [
    "%time score_lst = evaluate_gen_lev(names, esn_generated)\n",
    "print('Eval mean: {:.3} Eval min: {:.3} Eval max: {:.3}'.format(np.mean(score_lst), \n",
    "                                                                min(score_lst), \n",
    "                                                                max(score_lst)))"
   ]
  },
  {
   "cell_type": "code",
   "execution_count": 51,
   "metadata": {
    "colab": {
     "base_uri": "https://localhost:8080/",
     "height": 67
    },
    "colab_type": "code",
    "id": "HhJvAc0lkMT7",
    "outputId": "6ce0118f-baa4-4e34-e2ae-d178bd00452d"
   },
   "outputs": [
    {
     "name": "stdout",
     "output_type": "stream",
     "text": [
      "Wall time: 291 ms\n",
      "Eval mean: 0.328 Eval min: 0.205 Eval max: 0.416\n"
     ]
    }
   ],
   "source": [
    "%time score_lst = evaluate_gen_lev(names, rnn_generated)\n",
    "print('Eval mean: {:.3} Eval min: {:.3} Eval max: {:.3}'.format(np.mean(score_lst), \n",
    "                                                                min(score_lst), \n",
    "                                                                max(score_lst)))"
   ]
  },
  {
   "cell_type": "code",
   "execution_count": 52,
   "metadata": {
    "colab": {
     "base_uri": "https://localhost:8080/",
     "height": 67
    },
    "colab_type": "code",
    "id": "5bOgOKT7XNuq",
    "outputId": "40eaf2a9-8e9d-4076-a185-34df82bc6304"
   },
   "outputs": [
    {
     "name": "stdout",
     "output_type": "stream",
     "text": [
      "Wall time: 33.4 s\n",
      "Eval mean: 0.742 Eval min: 2.47e-232 Eval max: 1.0\n"
     ]
    }
   ],
   "source": [
    "%time score_lst = evaluate_gen(names, esn_generated, is_sentence_bleu=True)\n",
    "print('Eval mean: {:.3} Eval min: {:.3} Eval max: {:.3}'.format(np.mean(score_lst), \n",
    "                                                                min(score_lst), \n",
    "                                                                max(score_lst)))"
   ]
  },
  {
   "cell_type": "code",
   "execution_count": 53,
   "metadata": {
    "colab": {
     "base_uri": "https://localhost:8080/",
     "height": 67
    },
    "colab_type": "code",
    "id": "0Z7KwgMaXOgz",
    "outputId": "382b4224-ed95-488b-eebd-ba0984f2d5db"
   },
   "outputs": [
    {
     "name": "stdout",
     "output_type": "stream",
     "text": [
      "Wall time: 34.7 s\n",
      "Eval mean: 0.627 Eval min: 2.47e-232 Eval max: 1.0\n"
     ]
    }
   ],
   "source": [
    "%time score_lst = evaluate_gen(names, rnn_generated, is_sentence_bleu=True)\n",
    "print('Eval mean: {:.3} Eval min: {:.3} Eval max: {:.3}'.format(np.mean(score_lst), \n",
    "                                                                min(score_lst), \n",
    "                                                                max(score_lst)))"
   ]
  },
  {
   "cell_type": "markdown",
   "metadata": {
    "colab_type": "text",
    "id": "90-IdCbxkMT-"
   },
   "source": [
    "**Compare score by temperature**"
   ]
  },
  {
   "cell_type": "code",
   "execution_count": 74,
   "metadata": {
    "colab": {
     "base_uri": "https://localhost:8080/",
     "height": 202
    },
    "colab_type": "code",
    "id": "P_7V45wIkMUA",
    "outputId": "ecce1939-f098-4941-d070-4e95eb642853"
   },
   "outputs": [
    {
     "name": "stdout",
     "output_type": "stream",
     "text": [
      "Temperature 0.1\n",
      "Temperature 0.2\n",
      "Temperature 0.3\n",
      "Temperature 0.4\n",
      "Temperature 0.5\n",
      "Temperature 0.6\n",
      "Temperature 0.7\n",
      "Temperature 0.8\n",
      "Temperature 0.9\n",
      "Temperature 1\n",
      "Wall time: 2min 13s\n"
     ]
    }
   ],
   "source": [
    "%%time\n",
    "n_gen            = 200\n",
    "n_neg_sample     = 500\n",
    "temperature      = [0.1, 0.2, 0.3, 0.4, 0.5, 0.6, 0.7, 0.8, 0.9, 1]\n",
    "is_sentence_bleu = True\n",
    "\n",
    "rnn_gen_mean_lst = []\n",
    "esn_gen_mean_lst = []\n",
    "rnn_gen_lev_mean_lst = []\n",
    "esn_gen_lev_mean_lst = []\n",
    "\n",
    "for t in temperature:\n",
    "    print('Temperature {}'.format(t))\n",
    "    \n",
    "    sample_data   = sample(names, n_neg_sample)\n",
    "    rnn_generated = [generate_sample_rnn(char_rnn, \n",
    "                                         seed_phrase=' ', \n",
    "                                         temperature=t, \n",
    "                                         enforce_end=True) \\\n",
    "                     for x in range(n_gen)]\n",
    "    score_lst     = evaluate_gen(sample_data, rnn_generated, is_sentence_bleu=is_sentence_bleu)\n",
    "    score_lst_lev = evaluate_gen_lev(sample_data, rnn_generated)\n",
    "    rnn_gen_mean_lst.append(np.mean(score_lst))\n",
    "    rnn_gen_lev_mean_lst.append(np.mean(score_lst_lev))\n",
    "    \n",
    "    esn_generated = [gen.generate_sample(net, \n",
    "                                         max_length=MAX_LENGTH,\n",
    "                                         tokens=tokens,\n",
    "                                         token_to_id=token_to_id,\n",
    "                                         seed_phrase=' ', \n",
    "                                         temperature=t, \n",
    "                                         enforce_end=True)\n",
    "                     for x in range(n_gen)]\n",
    "    score_lst     = evaluate_gen(sample_data, esn_generated, is_sentence_bleu=is_sentence_bleu)\n",
    "    score_lst_lev = evaluate_gen_lev(sample_data, esn_generated)\n",
    "    esn_gen_mean_lst.append(np.mean(score_lst))\n",
    "    esn_gen_lev_mean_lst.append(np.mean(score_lst_lev))"
   ]
  },
  {
   "cell_type": "code",
   "execution_count": 75,
   "metadata": {
    "colab": {
     "base_uri": "https://localhost:8080/",
     "height": 350
    },
    "colab_type": "code",
    "id": "dkmY2Cu2kMUF",
    "outputId": "712ddf74-ca8c-4e71-ae7b-11543b202836"
   },
   "outputs": [
    {
     "data": {
      "image/png": "[encoded data removed]",
      "text/plain": [
       "<Figure size 648x360 with 1 Axes>"
      ]
     },
     "metadata": {
      "needs_background": "light"
     },
     "output_type": "display_data"
    }
   ],
   "source": [
    "plt.figure(figsize=(9,5))\n",
    "plt.plot(temperature, rnn_gen_mean_lst,'o-', label='RNN BLEU score')\n",
    "plt.plot(temperature, esn_gen_mean_lst, 'o-',label='ESN BLEU score')\n",
    "plt.plot(temperature, rnn_gen_lev_mean_lst,'o--', label='RNN Levenshtein score')\n",
    "plt.plot(temperature, esn_gen_lev_mean_lst,'o--', label='ESN Levenshtein score')\n",
    "plt.xlabel('temperature')\n",
    "plt.ylabel('Score')\n",
    "# plt.title('Evaluation score by temperature of generation')\n",
    "plt.grid()\n",
    "plt.legend()\n",
    "pass"
   ]
  },
  {
   "cell_type": "markdown",
   "metadata": {},
   "source": [
    "### Comparing different ESN settings "
   ]
  },
  {
   "cell_type": "code",
   "execution_count": 69,
   "metadata": {},
   "outputs": [
    {
     "name": "stdout",
     "output_type": "stream",
     "text": [
      "{'density': 0.1, 'leaking_rate': 0.9, 'lin_size': 64, 'n_res': 100, 'ro_hidden_layers': 1, 'spec_radius': 0.99}\n",
      "Internal reservoir set\n",
      "Reservoir has 399 non zero values (3.99%)\n",
      "Loss: 1.065999984741211\n",
      "\n",
      "{'density': 0.1, 'leaking_rate': 0.9, 'lin_size': 64, 'n_res': 100, 'ro_hidden_layers': 2, 'spec_radius': 0.99}\n",
      "Internal reservoir set\n",
      "Reservoir has 396 non zero values (3.96%)\n",
      "Loss: 1.0549999475479126\n",
      "\n",
      "{'density': 0.1, 'leaking_rate': 0.9, 'lin_size': 64, 'n_res': 200, 'ro_hidden_layers': 1, 'spec_radius': 0.99}\n",
      "Internal reservoir set\n",
      "Reservoir has 1425 non zero values (3.56%)\n",
      "Loss: 0.9890000224113464\n",
      "\n",
      "{'density': 0.1, 'leaking_rate': 0.9, 'lin_size': 64, 'n_res': 200, 'ro_hidden_layers': 2, 'spec_radius': 0.99}\n",
      "Internal reservoir set\n",
      "Reservoir has 1384 non zero values (3.46%)\n",
      "Loss: 0.9660000205039978\n",
      "\n",
      "{'density': 0.1, 'leaking_rate': 0.9, 'lin_size': 64, 'n_res': 300, 'ro_hidden_layers': 1, 'spec_radius': 0.99}\n",
      "Internal reservoir set\n",
      "Reservoir has 2594 non zero values (2.88%)\n",
      "Loss: 0.9409999847412109\n",
      "\n",
      "{'density': 0.1, 'leaking_rate': 0.9, 'lin_size': 64, 'n_res': 300, 'ro_hidden_layers': 2, 'spec_radius': 0.99}\n",
      "Internal reservoir set\n",
      "Reservoir has 2607 non zero values (2.90%)\n",
      "Loss: 0.9399999976158142\n",
      "\n",
      "{'density': 0.1, 'leaking_rate': 0.9, 'lin_size': 64, 'n_res': 500, 'ro_hidden_layers': 1, 'spec_radius': 0.99}\n",
      "Internal reservoir set\n",
      "Reservoir has 5827 non zero values (2.33%)\n",
      "Loss: 0.9110000133514404\n",
      "\n",
      "{'density': 0.1, 'leaking_rate': 0.9, 'lin_size': 64, 'n_res': 500, 'ro_hidden_layers': 2, 'spec_radius': 0.99}\n",
      "Internal reservoir set\n",
      "Reservoir has 5997 non zero values (2.40%)\n",
      "Loss: 0.902999997138977\n",
      "\n"
     ]
    }
   ],
   "source": [
    "from sklearn.model_selection import ParameterGrid\n",
    "from tqdm import tqdm\n",
    "from datetime import datetime\n",
    "train = imp.reload(train)\n",
    "\n",
    "n_epoch    = 500\n",
    "batch_size = 300\n",
    "\n",
    "device = torch.device('cuda')\n",
    "n_in = len(tokens)\n",
    "\n",
    "\n",
    "_params = dict(n_res=[100, 200, 300],\n",
    "              lin_size=[64],\n",
    "              density=[0.05],\n",
    "              ro_hidden_layers=[1],\n",
    "              leaking_rate=[0.7],\n",
    "              spec_radius=[0.97])\n",
    "\n",
    "MAX_LENGTH   = max(map(len, names))\n",
    "\n",
    "stat_dct = {'n_res':  [],\n",
    "            'lsize':  [],\n",
    "            'n_hid':  [],\n",
    "            'loss':   [],\n",
    "            'time':   [],\n",
    "            'eval1':  [],\n",
    "            'eval2':  [],\n",
    "            'epoch':  [],\n",
    "            'batch':  []}\n",
    "\n",
    "for param in ParameterGrid(_params):\n",
    "    print(param)\n",
    "    tmp_net = esn.GenESN(n_in=n_in, n_out=n_in, \n",
    "                         n_res=param['n_res'],\n",
    "                         ro_hidden_layers=param['ro_hidden_layers'],\n",
    "                         lin_size=param['lin_size'],\n",
    "                         density=param['density'],\n",
    "                         leaking_rate=param['leaking_rate'],\n",
    "                         spec_radius=param['spec_radius'],\n",
    "                         device=device)\n",
    "    tmp_net.to(device)\n",
    "    \n",
    "    lr           = 1e-3\n",
    "    opt          = torch.optim.Adam(tmp_net.parameters(), lr=lr)\n",
    "    lr_scheduler = train.scheduler(opt, patience=200)\n",
    "    history      = []\n",
    "    start_time = datetime.now()\n",
    "    train.trainESN(tmp_net, \n",
    "                   data=names,\n",
    "                   tokens=tokens,\n",
    "                   token_to_id=token_to_id,\n",
    "                   max_length=MAX_LENGTH,\n",
    "                   n_epoch=n_epoch, \n",
    "                   batch_size=200, \n",
    "                   opt=opt,\n",
    "                   lr_scheduler=lr_scheduler, \n",
    "                   history=history, \n",
    "                   plot_loss=False,\n",
    "                   legend=True)\n",
    "    end_time = datetime.now() - start_time\n",
    "    n_gen = 100\n",
    "    n_neg_sample = 200\n",
    "    sample_data   = sample(names, n_neg_sample)\n",
    "    esn_generated = [gen.generate_sample(tmp_net, \n",
    "                                         max_length=MAX_LENGTH,\n",
    "                                         tokens=tokens,\n",
    "                                         token_to_id=token_to_id,\n",
    "                                         seed_phrase=' ', \n",
    "                                         temperature=t, \n",
    "                                         enforce_end=True)\n",
    "                     for x in range(n_gen)]\n",
    "    score_lst  = evaluate_gen(sample_data, esn_generated, is_sentence_bleu=is_sentence_bleu)\n",
    "    lss = np.mean(history[-30:])\n",
    "    print('Loss: {}\\n'.format(round(lss, 3)))\n",
    "    stat_dct['n_res'] += [param['n_res']]\n",
    "    stat_dct['n_hid'] += [param['ro_hidden_layers']]\n",
    "    stat_dct['lsize'] += [param['lin_size']]\n",
    "    stat_dct['dens']  += [param['density']]\n",
    "    stat_dct['loss']  += [lss]\n",
    "    stat_dct['time']  += [end_time.total_seconds()]\n",
    "    stat_dct['eval1'] += [np.mean(score_lst)]\n",
    "    stat_dct['epoch'] += [n_epoch]\n",
    "    stat_dct['batch'] += [batch_size]"
   ]
  },
  {
   "cell_type": "code",
   "execution_count": 76,
   "metadata": {},
   "outputs": [
    {
     "data": {
      "text/html": [
       "<div>\n",
       "<style scoped>\n",
       "    .dataframe tbody tr th:only-of-type {\n",
       "        vertical-align: middle;\n",
       "    }\n",
       "\n",
       "    .dataframe tbody tr th {\n",
       "        vertical-align: top;\n",
       "    }\n",
       "\n",
       "    .dataframe thead th {\n",
       "        text-align: right;\n",
       "    }\n",
       "</style>\n",
       "<table border=\"1\" class=\"dataframe\">\n",
       "  <thead>\n",
       "    <tr style=\"text-align: right;\">\n",
       "      <th></th>\n",
       "      <th>n_res</th>\n",
       "      <th>lsize</th>\n",
       "      <th>n_hid</th>\n",
       "      <th>loss</th>\n",
       "      <th>time</th>\n",
       "      <th>eval1</th>\n",
       "      <th>epoch</th>\n",
       "      <th>batch</th>\n",
       "    </tr>\n",
       "  </thead>\n",
       "  <tbody>\n",
       "    <tr>\n",
       "      <th>0</th>\n",
       "      <td>100</td>\n",
       "      <td>64</td>\n",
       "      <td>1</td>\n",
       "      <td>1.066124</td>\n",
       "      <td>18.910917</td>\n",
       "      <td>0.246754</td>\n",
       "      <td>400</td>\n",
       "      <td>300</td>\n",
       "    </tr>\n",
       "    <tr>\n",
       "      <th>1</th>\n",
       "      <td>100</td>\n",
       "      <td>64</td>\n",
       "      <td>2</td>\n",
       "      <td>1.055028</td>\n",
       "      <td>29.527889</td>\n",
       "      <td>0.172037</td>\n",
       "      <td>400</td>\n",
       "      <td>300</td>\n",
       "    </tr>\n",
       "    <tr>\n",
       "      <th>2</th>\n",
       "      <td>200</td>\n",
       "      <td>64</td>\n",
       "      <td>1</td>\n",
       "      <td>0.988726</td>\n",
       "      <td>20.282017</td>\n",
       "      <td>0.250696</td>\n",
       "      <td>400</td>\n",
       "      <td>300</td>\n",
       "    </tr>\n",
       "    <tr>\n",
       "      <th>3</th>\n",
       "      <td>200</td>\n",
       "      <td>64</td>\n",
       "      <td>2</td>\n",
       "      <td>0.965881</td>\n",
       "      <td>28.981040</td>\n",
       "      <td>0.306121</td>\n",
       "      <td>400</td>\n",
       "      <td>300</td>\n",
       "    </tr>\n",
       "    <tr>\n",
       "      <th>4</th>\n",
       "      <td>300</td>\n",
       "      <td>64</td>\n",
       "      <td>1</td>\n",
       "      <td>0.941353</td>\n",
       "      <td>21.172194</td>\n",
       "      <td>0.338505</td>\n",
       "      <td>400</td>\n",
       "      <td>300</td>\n",
       "    </tr>\n",
       "    <tr>\n",
       "      <th>5</th>\n",
       "      <td>300</td>\n",
       "      <td>64</td>\n",
       "      <td>2</td>\n",
       "      <td>0.939905</td>\n",
       "      <td>30.036729</td>\n",
       "      <td>0.314232</td>\n",
       "      <td>400</td>\n",
       "      <td>300</td>\n",
       "    </tr>\n",
       "    <tr>\n",
       "      <th>6</th>\n",
       "      <td>500</td>\n",
       "      <td>64</td>\n",
       "      <td>1</td>\n",
       "      <td>0.910719</td>\n",
       "      <td>20.042603</td>\n",
       "      <td>0.357338</td>\n",
       "      <td>400</td>\n",
       "      <td>300</td>\n",
       "    </tr>\n",
       "    <tr>\n",
       "      <th>7</th>\n",
       "      <td>500</td>\n",
       "      <td>64</td>\n",
       "      <td>2</td>\n",
       "      <td>0.903433</td>\n",
       "      <td>29.278303</td>\n",
       "      <td>0.351072</td>\n",
       "      <td>400</td>\n",
       "      <td>300</td>\n",
       "    </tr>\n",
       "  </tbody>\n",
       "</table>\n",
       "</div>"
      ],
      "text/plain": [
       "   n_res  lsize  n_hid      loss       time     eval1  epoch  batch\n",
       "0    100     64      1  1.066124  18.910917  0.246754    400    300\n",
       "1    100     64      2  1.055028  29.527889  0.172037    400    300\n",
       "2    200     64      1  0.988726  20.282017  0.250696    400    300\n",
       "3    200     64      2  0.965881  28.981040  0.306121    400    300\n",
       "4    300     64      1  0.941353  21.172194  0.338505    400    300\n",
       "5    300     64      2  0.939905  30.036729  0.314232    400    300\n",
       "6    500     64      1  0.910719  20.042603  0.357338    400    300\n",
       "7    500     64      2  0.903433  29.278303  0.351072    400    300"
      ]
     },
     "execution_count": 76,
     "metadata": {},
     "output_type": "execute_result"
    }
   ],
   "source": [
    "import pandas as pd\n",
    "stats = pd.DataFrame.from_dict(stat_dct)\n",
    "stats"
   ]
  },
  {
   "cell_type": "markdown",
   "metadata": {
    "colab_type": "text",
    "id": "sOLYy0HXhj7p"
   },
   "source": [
    "## Quotes dataset"
   ]
  },
  {
   "cell_type": "code",
   "execution_count": 61,
   "metadata": {
    "colab": {
     "base_uri": "https://localhost:8080/",
     "height": 50
    },
    "colab_type": "code",
    "id": "nhw_MWKfSz5p",
    "outputId": "2394b18f-9963-4237-9414-e4ff2220e0d3"
   },
   "outputs": [
    {
     "name": "stdout",
     "output_type": "stream",
     "text": [
      "Wall time: 12.2 s\n"
     ]
    }
   ],
   "source": [
    "%%time\n",
    "import nltk\n",
    "nltk.download('punkt')\n",
    "import string\n",
    "from nltk.tokenize import word_tokenize\n",
    "\n",
    "\n",
    "\n",
    "with open('datasets/author_quotes.txt') as input_file:\n",
    "    quotes = input_file.read()[:-1].split('\\n')\n",
    "    quotes = [' ' + line for line in quotes]\n",
    "    \n",
    "    \n",
    "for i, quote in enumerate(quotes):\n",
    "    \n",
    "    quote      = word_tokenize(quote)\n",
    "    proc_quote = []\n",
    "    \n",
    "    for j, token in enumerate(quote):\n",
    "        \n",
    "        token = list(filter(lambda char: char in list(string.ascii_letters), token))\n",
    "        proc_quote.append(''.join(token))\n",
    "        \n",
    "    quote     = ' '.join(proc_quote)\n",
    "    quotes[i] = quote.lower()\n"
   ]
  },
  {
   "cell_type": "code",
   "execution_count": 63,
   "metadata": {
    "colab": {
     "base_uri": "https://localhost:8080/",
     "height": 121
    },
    "colab_type": "code",
    "id": "UMj4YWKHSz5s",
    "outputId": "7def96ab-5ac6-47e9-ea59-54ec3268c5ea"
   },
   "outputs": [
    {
     "data": {
      "text/plain": [
       "['my experience as a young actor on network television was that i could nt make it work  i was drowning as an actor ',\n",
       " 'for some reason  the military seems more afraid of gay people than they are against terrorists  but they re very brave with the terrorists  if the terrorists ever got a hold of this information  they d get a platoon of lesbians to chase us out of baghdad ',\n",
       " 'my goal is to be the best tv presenter  the best entertainer  the best singer  i still want to be the best dancer  i want to be the best at everything i do ',\n",
       " 'legends die hard  they survive as truth rarely does ',\n",
       " 'for i do not seek to understand in order to believe  but i believe in order to understand  for i believe this  unless i believe  i will not understand ']"
      ]
     },
     "execution_count": 63,
     "metadata": {},
     "output_type": "execute_result"
    }
   ],
   "source": [
    "from random import sample\n",
    "sample(quotes,5)"
   ]
  },
  {
   "cell_type": "code",
   "execution_count": 64,
   "metadata": {
    "colab": {
     "base_uri": "https://localhost:8080/",
     "height": 281
    },
    "colab_type": "code",
    "id": "utdk1xAzSz5u",
    "outputId": "748b5a21-fc20-4d02-cab4-4226fe95e7ce"
   },
   "outputs": [
    {
     "data": {
      "image/png": "[encoded data removed]",
      "text/plain": [
       "<Figure size 432x288 with 1 Axes>"
      ]
     },
     "metadata": {
      "needs_background": "light"
     },
     "output_type": "display_data"
    }
   ],
   "source": [
    "plt.title('Quotes length distribution')\n",
    "plt.hist(list(map(len, quotes)), bins=25);"
   ]
  },
  {
   "cell_type": "code",
   "execution_count": 77,
   "metadata": {
    "colab": {
     "base_uri": "https://localhost:8080/",
     "height": 34
    },
    "colab_type": "code",
    "id": "xweBlAUnSz5v",
    "outputId": "7aad984e-0f4b-4fd3-de8a-fac442440d3d"
   },
   "outputs": [
    {
     "ename": "NameError",
     "evalue": "name 'quotes' is not defined",
     "output_type": "error",
     "traceback": [
      "\u001b[1;31m---------------------------------------------------------------------------\u001b[0m",
      "\u001b[1;31mNameError\u001b[0m                                 Traceback (most recent call last)",
      "\u001b[1;32m<ipython-input-77-c37a85f18ca6>\u001b[0m in \u001b[0;36m<module>\u001b[1;34m\u001b[0m\n\u001b[1;32m----> 1\u001b[1;33m \u001b[0mqtokens\u001b[0m     \u001b[1;33m=\u001b[0m \u001b[0mlist\u001b[0m\u001b[1;33m(\u001b[0m\u001b[0mset\u001b[0m\u001b[1;33m(\u001b[0m\u001b[1;34m''\u001b[0m\u001b[1;33m.\u001b[0m\u001b[0mjoin\u001b[0m\u001b[1;33m(\u001b[0m\u001b[0mquotes\u001b[0m\u001b[1;33m)\u001b[0m\u001b[1;33m)\u001b[0m\u001b[1;33m)\u001b[0m\u001b[1;33m\u001b[0m\u001b[1;33m\u001b[0m\u001b[0m\n\u001b[0m\u001b[0;32m      2\u001b[0m \u001b[0mnum_qtokens\u001b[0m \u001b[1;33m=\u001b[0m \u001b[0mlen\u001b[0m\u001b[1;33m(\u001b[0m\u001b[0mqtokens\u001b[0m\u001b[1;33m)\u001b[0m\u001b[1;33m\u001b[0m\u001b[1;33m\u001b[0m\u001b[0m\n\u001b[0;32m      3\u001b[0m \u001b[0mqtoken_to_id\u001b[0m \u001b[1;33m=\u001b[0m \u001b[1;33m{\u001b[0m\u001b[0mtoken\u001b[0m\u001b[1;33m:\u001b[0m \u001b[0midx\u001b[0m \u001b[1;32mfor\u001b[0m \u001b[0midx\u001b[0m\u001b[1;33m,\u001b[0m \u001b[0mtoken\u001b[0m \u001b[1;32min\u001b[0m \u001b[0menumerate\u001b[0m\u001b[1;33m(\u001b[0m\u001b[0mqtokens\u001b[0m\u001b[1;33m)\u001b[0m\u001b[1;33m}\u001b[0m\u001b[1;33m\u001b[0m\u001b[1;33m\u001b[0m\u001b[0m\n\u001b[0;32m      4\u001b[0m \u001b[0mprint\u001b[0m \u001b[1;33m(\u001b[0m\u001b[1;34m'num_tokens = '\u001b[0m\u001b[1;33m,\u001b[0m \u001b[0mnum_qtokens\u001b[0m\u001b[1;33m)\u001b[0m\u001b[1;33m\u001b[0m\u001b[1;33m\u001b[0m\u001b[0m\n\u001b[0;32m      5\u001b[0m \u001b[1;32massert\u001b[0m \u001b[0mlen\u001b[0m\u001b[1;33m(\u001b[0m\u001b[0mqtokens\u001b[0m\u001b[1;33m)\u001b[0m \u001b[1;33m==\u001b[0m \u001b[0mlen\u001b[0m\u001b[1;33m(\u001b[0m\u001b[0mqtoken_to_id\u001b[0m\u001b[1;33m)\u001b[0m\u001b[1;33m,\u001b[0m \u001b[1;34m\"dictionaries must have same size\"\u001b[0m\u001b[1;33m\u001b[0m\u001b[1;33m\u001b[0m\u001b[0m\n",
      "\u001b[1;31mNameError\u001b[0m: name 'quotes' is not defined"
     ]
    }
   ],
   "source": [
    "qtokens     = list(set(''.join(quotes)))\n",
    "num_qtokens = len(qtokens)\n",
    "qtoken_to_id = {token: idx for idx, token in enumerate(qtokens)}\n",
    "print ('num_tokens = ', num_qtokens)\n",
    "assert len(qtokens) == len(qtoken_to_id), \"dictionaries must have same size\"\n",
    "for i in range(num_qtokens):\n",
    "    assert qtoken_to_id[qtokens[i]] == i, \"token identifier must be it's position in tokens list\""
   ]
  },
  {
   "cell_type": "code",
   "execution_count": 72,
   "metadata": {
    "colab": {
     "base_uri": "https://localhost:8080/",
     "height": 390
    },
    "colab_type": "code",
    "id": "NDSybCzOSz6C",
    "outputId": "edfa0cc2-87b0-43d8-d0c1-a3568984c8af"
   },
   "outputs": [
    {
     "name": "stdout",
     "output_type": "stream",
     "text": [
      "Internal reservoir set\n",
      "Reservoir has 2689 non zero values (0.42%)\n",
      "GenESN(\n",
      "  (readout_in): Linear(in_features=800, out_features=30, bias=True)\n",
      "  (readout_out): Linear(in_features=30, out_features=27, bias=True)\n",
      "  (dropout): Dropout(p=0.1, inplace=False)\n",
      "  (softmax): LogSoftmax()\n",
      ")\n",
      "Wall time: 38 s\n"
     ]
    }
   ],
   "source": [
    "%%time\n",
    "device           = torch.device('cuda')\n",
    "n_in             = len(qtokens)\n",
    "n_res            = 800\n",
    "lin_size         = 30\n",
    "ro_hidden_layers = 3\n",
    "spec_radius      = 0.99\n",
    "density          = 0.01\n",
    "leaking_rate     = 1\n",
    "\n",
    "\n",
    "net = esn.GenESN(n_in=n_in, n_res=n_res , n_out=n_in, \n",
    "                 ro_hidden_layers=ro_hidden_layers,\n",
    "                 leaking_rate=leaking_rate, \n",
    "                 spec_radius=spec_radius,\n",
    "                 lin_size=lin_size, \n",
    "                 density=density, \n",
    "                 device=device) \n",
    "net.to(device)\n",
    "print(net)"
   ]
  },
  {
   "cell_type": "code",
   "execution_count": 73,
   "metadata": {
    "colab": {},
    "colab_type": "code",
    "id": "OtRtWzA2Sz6E"
   },
   "outputs": [],
   "source": [
    "lr = 1e-2\n",
    "opt = torch.optim.Adam(net.parameters(), lr=lr)\n",
    "lr_scheduler = scheduler(opt, patience=200)\n",
    "MAX_QLENGTH = max(map(len, quotes))\n",
    "history = []\n",
    "quotes = sorted(quotes, key=len, reverse=False)\n",
    "len(quotes[20000])"
   ]
  },
  {
   "cell_type": "code",
   "execution_count": null,
   "metadata": {
    "ExecuteTime": {
     "end_time": "2019-11-05T18:21:23.521061Z",
     "start_time": "2019-11-05T18:21:12.302892Z"
    },
    "colab": {
     "base_uri": "https://localhost:8080/",
     "height": 434
    },
    "colab_type": "code",
    "id": "Ey_1gqrBSz6G",
    "outputId": "b2a10d79-63dc-44de-9809-2a581d4cb1d7",
    "scrolled": false
   },
   "outputs": [],
   "source": [
    "%%time\n",
    "n_epoch    = 1500\n",
    "batch_size = 200\n",
    "\n",
    "train.trainESN(  net, data=quotes[1000:15000], \n",
    "                 n_epoch=n_epoch,\n",
    "                 batch_size=batch_size, \n",
    "                 lr_scheduler=lr_scheduler, \n",
    "                 history=history, \n",
    "                 random_batching=True,\n",
    "                 max_length=MAX_QLENGTH, \n",
    "                 tokens=qtokens, \n",
    "                 token_to_id=qtoken_to_id,\n",
    "                 opt=opt)"
   ]
  },
  {
   "cell_type": "code",
   "execution_count": 90,
   "metadata": {
    "colab": {
     "base_uri": "https://localhost:8080/",
     "height": 689
    },
    "colab_type": "code",
    "id": "maqJS5DCSz6J",
    "outputId": "31c71321-ba9b-4c95-8c6a-10cb0df96738"
   },
   "outputs": [
    {
     "name": "stdout",
     "output_type": "stream",
     "text": [
      " home is    a                                                                                                                                                                                                                                                                                                                                                                                                           \n",
      "\n",
      " home lothero wor do  t dongs  d                                                                                                                                                                                                                                                                                                                                                                                        \n",
      "\n",
      " home wor  i                                                                                                                                                                                                                                                                                                                                                                                                            \n",
      "\n",
      " home lorkhers                                                                                                                                                                                                                                                                                                                                                                                                          \n",
      "\n",
      " homecantist you di w he  poe t                                                                                                                                                                                                                                                                                                                                                                                         \n",
      "\n",
      " homeri than ss mot is there ixway s oure thend ine  thiekend  have  owera                                                                                                                                                                                                                                                                                                                                              \n",
      "\n",
      " home reangritid                                                                                                                                                                                                                                                                                                                                                                                                        \n",
      "\n"
     ]
    }
   ],
   "source": [
    "for _ in range(7):\n",
    "    print(gen.generate_sample(net, \n",
    "                              max_length=MAX_QLENGTH, \n",
    "                              tokens=qtokens,\n",
    "                              token_to_id=qtoken_to_id,\n",
    "                              temperature=0.7, \n",
    "                              seed_phrase=' home'))\n",
    "    print()"
   ]
  },
  {
   "cell_type": "code",
   "execution_count": 0,
   "metadata": {
    "colab": {
     "base_uri": "https://localhost:8080/",
     "height": 840
    },
    "colab_type": "code",
    "id": "0jFMrkUTGxyq",
    "outputId": "271ba9df-7ecc-4402-fa27-5e9a40a641cc"
   },
   "outputs": [
    {
     "name": "stdout",
     "output_type": "stream",
     "text": [
      "Params: {'density': 0.01, 'leaking_rate': 0.7, 'lin_size': 30, 'n_res': 800, 'ro_hidden_layers': 2}\n",
      "internal reservoir set\n",
      "Reservoir has 3088 non zero values (0.48%)\n",
      "Loss function value: 0.7799999713897705 \n",
      "\n",
      "Params: {'density': 0.01, 'leaking_rate': 0.7, 'lin_size': 30, 'n_res': 800, 'ro_hidden_layers': 3}\n",
      "internal reservoir set\n",
      "Reservoir has 3087 non zero values (0.48%)\n",
      "Loss function value: 0.800000011920929 \n",
      "\n",
      "Params: {'density': 0.01, 'leaking_rate': 0.7, 'lin_size': 30, 'n_res': 800, 'ro_hidden_layers': 4}\n",
      "internal reservoir set\n",
      "Reservoir has 3171 non zero values (0.50%)\n",
      "Loss function value: 0.7960000038146973 \n",
      "\n",
      "Params: {'density': 0.01, 'leaking_rate': 0.7, 'lin_size': 50, 'n_res': 800, 'ro_hidden_layers': 2}\n",
      "internal reservoir set\n",
      "Reservoir has 3115 non zero values (0.49%)\n",
      "Loss function value: 0.7749999761581421 \n",
      "\n",
      "Params: {'density': 0.01, 'leaking_rate': 0.7, 'lin_size': 50, 'n_res': 800, 'ro_hidden_layers': 3}\n",
      "internal reservoir set\n",
      "Reservoir has 3166 non zero values (0.49%)\n",
      "Loss function value: 0.7770000100135803 \n",
      "\n",
      "Params: {'density': 0.01, 'leaking_rate': 0.7, 'lin_size': 50, 'n_res': 800, 'ro_hidden_layers': 4}\n",
      "internal reservoir set\n",
      "Reservoir has 3256 non zero values (0.51%)\n",
      "Loss function value: 0.781000018119812 \n",
      "\n",
      "Params: {'density': 0.01, 'leaking_rate': 0.7, 'lin_size': 100, 'n_res': 800, 'ro_hidden_layers': 2}\n",
      "internal reservoir set\n",
      "Reservoir has 3104 non zero values (0.48%)\n",
      "Loss function value: 0.7450000047683716 \n",
      "\n",
      "Params: {'density': 0.01, 'leaking_rate': 0.7, 'lin_size': 100, 'n_res': 800, 'ro_hidden_layers': 3}\n",
      "internal reservoir set\n",
      "Reservoir has 3096 non zero values (0.48%)\n",
      "Loss function value: 0.7609999775886536 \n",
      "\n",
      "Params: {'density': 0.01, 'leaking_rate': 0.7, 'lin_size': 100, 'n_res': 800, 'ro_hidden_layers': 4}\n",
      "internal reservoir set\n",
      "Reservoir has 3114 non zero values (0.49%)\n",
      "Loss function value: 0.7649999856948853 \n",
      "\n",
      "Params: {'density': 0.01, 'leaking_rate': 0.8, 'lin_size': 30, 'n_res': 800, 'ro_hidden_layers': 2}\n",
      "internal reservoir set\n",
      "Reservoir has 3132 non zero values (0.49%)\n",
      "KeyboardInterrupt, stoping...\n"
     ]
    }
   ],
   "source": [
    "GridSearchOptimizer(data=quotes,\n",
    "                    MAX_LENGTH=MAX_QLENGTH,\n",
    "                    token_to_id=qtoken_to_id, \n",
    "                    tokens=qtokens, \n",
    "                    n_epoch=500, \n",
    "                    n_res=[800], \n",
    "                    in_out=(len(qtokens), len(qtokens)),\n",
    "                    lin_size=[30, 50, 100], \n",
    "                    leaking_rate=[0.7, 0.8, 0.9],\n",
    "                    density=[0.01], \n",
    "                    ro_hidden_layers=[2,3,4])"
   ]
  }
 ],
 "metadata": {
  "accelerator": "GPU",
  "colab": {
   "collapsed_sections": [],
   "name": "TextGenESN.ipynb",
   "provenance": []
  },
  "kernelspec": {
   "display_name": "Python 3",
   "language": "python",
   "name": "python3"
  },
  "language_info": {
   "codemirror_mode": {
    "name": "ipython",
    "version": 3
   },
   "file_extension": ".py",
   "mimetype": "text/x-python",
   "name": "python",
   "nbconvert_exporter": "python",
   "pygments_lexer": "ipython3",
   "version": "3.7.7"
  },
  "latex_envs": {
   "LaTeX_envs_menu_present": true,
   "autoclose": false,
   "autocomplete": true,
   "bibliofile": "biblio.bib",
   "cite_by": "apalike",
   "current_citInitial": 1,
   "eqLabelWithNumbers": true,
   "eqNumInitial": 1,
   "hotkeys": {
    "equation": "Ctrl-E",
    "itemize": "Ctrl-I"
   },
   "labels_anchors": false,
   "latex_user_defs": false,
   "report_style_numbering": false,
   "user_envs_cfg": false
  },
  "toc": {
   "base_numbering": 1,
   "nav_menu": {},
   "number_sections": true,
   "sideBar": true,
   "skip_h1_title": false,
   "title_cell": "Table of Contents",
   "title_sidebar": "Contents",
   "toc_cell": false,
   "toc_position": {},
   "toc_section_display": true,
   "toc_window_display": false
  }
 },
 "nbformat": 4,
 "nbformat_minor": 1
}
