{
 "cells": [
  {
   "cell_type": "code",
   "execution_count": 1,
   "metadata": {
    "colab": {},
    "colab_type": "code",
    "id": "BEbfjdmDL5b6"
   },
   "outputs": [],
   "source": [
    "%matplotlib inline\n",
    "import os\n",
    "import numpy as np\n",
    "import matplotlib.pyplot as plt\n",
    "import warnings\n",
    "warnings.simplefilter('ignore')"
   ]
  },
  {
   "cell_type": "markdown",
   "metadata": {
    "colab_type": "text",
    "id": "-LrYvUvnL5cR"
   },
   "source": [
    "## Dataset (males lastnames)\n",
    "About ~9k lastnames"
   ]
  },
  {
   "cell_type": "code",
   "execution_count": 2,
   "metadata": {
    "ExecuteTime": {
     "end_time": "2019-11-05T18:21:03.509714Z",
     "start_time": "2019-11-05T18:21:03.491489Z"
    },
    "colab": {},
    "colab_type": "code",
    "id": "uo-OQz60L5cT"
   },
   "outputs": [],
   "source": [
    "with open('datasets/russian_names.txt') as input_file:\n",
    "    names = input_file.read()[:-1].split('\\n')\n",
    "    names = [' ' + line for line in names]"
   ]
  },
  {
   "cell_type": "code",
   "execution_count": 3,
   "metadata": {
    "ExecuteTime": {
     "end_time": "2019-11-05T18:21:03.946758Z",
     "start_time": "2019-11-05T18:21:03.938432Z"
    },
    "colab": {
     "base_uri": "https://localhost:8080/",
     "height": 34
    },
    "colab_type": "code",
    "id": "Yeus_UKoL5cb",
    "outputId": "7efd33df-c790-42ba-eec0-ccddb32c051d"
   },
   "outputs": [
    {
     "data": {
      "text/plain": [
       "[' Ababko', ' Abaev', ' Abagyan', ' Abaidulin', ' Abaidullin']"
      ]
     },
     "execution_count": 3,
     "metadata": {},
     "output_type": "execute_result"
    }
   ],
   "source": [
    "names[:5]"
   ]
  },
  {
   "cell_type": "markdown",
   "metadata": {
    "colab_type": "text",
    "id": "oJ0P9oX1L5ci"
   },
   "source": [
    "Name length ditribution"
   ]
  },
  {
   "cell_type": "code",
   "execution_count": 4,
   "metadata": {
    "ExecuteTime": {
     "end_time": "2019-11-05T18:21:05.420060Z",
     "start_time": "2019-11-05T18:21:05.179513Z"
    },
    "colab": {
     "base_uri": "https://localhost:8080/",
     "height": 281
    },
    "colab_type": "code",
    "id": "wYMaHO6cL5cl",
    "outputId": "eb6cd8c8-205f-45a7-b6a2-254de42f96a0"
   },
   "outputs": [
    {
     "data": {
      "image/png": "[encoded data removed]",
      "text/plain": [
       "<Figure size 432x288 with 1 Axes>"
      ]
     },
     "metadata": {
      "needs_background": "light"
     },
     "output_type": "display_data"
    }
   ],
   "source": [
    "plt.title('Name length distribution')\n",
    "plt.hist(list(map(len, names)), bins=25);"
   ]
  },
  {
   "cell_type": "markdown",
   "metadata": {
    "colab_type": "text",
    "id": "n7_-YV10L5cq"
   },
   "source": [
    "## Preprocessing"
   ]
  },
  {
   "cell_type": "code",
   "execution_count": 5,
   "metadata": {
    "ExecuteTime": {
     "end_time": "2019-11-05T18:21:07.335188Z",
     "start_time": "2019-11-05T18:21:07.320148Z"
    },
    "colab": {
     "base_uri": "https://localhost:8080/",
     "height": 34
    },
    "colab_type": "code",
    "id": "PM-Kd2qxL5cs",
    "outputId": "12d66798-ebe2-46cb-9f20-88b3436b1437"
   },
   "outputs": [
    {
     "name": "stdout",
     "output_type": "stream",
     "text": [
      "num_tokens =  53\n"
     ]
    }
   ],
   "source": [
    "#all unique characters go here\n",
    "tokens = list(set(''.join(names)))\n",
    "num_tokens = len(tokens)\n",
    "print ('num_tokens = ', num_tokens)"
   ]
  },
  {
   "cell_type": "markdown",
   "metadata": {
    "colab_type": "text",
    "id": "29_95GTsL5cv"
   },
   "source": [
    "### Character -> id"
   ]
  },
  {
   "cell_type": "code",
   "execution_count": 6,
   "metadata": {
    "ExecuteTime": {
     "end_time": "2019-11-05T18:21:07.674548Z",
     "start_time": "2019-11-05T18:21:07.671129Z"
    },
    "colab": {},
    "colab_type": "code",
    "id": "S-3UuOVHL5cw"
   },
   "outputs": [],
   "source": [
    "token_to_id = {token: idx for idx, token in enumerate(tokens)}"
   ]
  },
  {
   "cell_type": "code",
   "execution_count": 7,
   "metadata": {
    "ExecuteTime": {
     "end_time": "2019-11-05T18:21:07.838814Z",
     "start_time": "2019-11-05T18:21:07.833611Z"
    },
    "colab": {
     "base_uri": "https://localhost:8080/",
     "height": 34
    },
    "colab_type": "code",
    "id": "tUNhK1dqL5cz",
    "outputId": "fd5b04af-723a-43d7-a87e-04e42cd2309c"
   },
   "outputs": [
    {
     "name": "stdout",
     "output_type": "stream",
     "text": [
      "Seems alright!\n"
     ]
    }
   ],
   "source": [
    "assert len(tokens) == len(token_to_id), \"dictionaries must have same size\"\n",
    "for i in range(num_tokens):\n",
    "    assert token_to_id[tokens[i]] == i, \"token identifier must be it's position in tokens list\"\n",
    "\n",
    "print(\"Seems alright!\")"
   ]
  },
  {
   "cell_type": "code",
   "execution_count": 8,
   "metadata": {
    "ExecuteTime": {
     "end_time": "2019-11-05T18:21:07.988093Z",
     "start_time": "2019-11-05T18:21:07.977722Z"
    },
    "colab": {},
    "colab_type": "code",
    "id": "ynmV1dHaL5c3"
   },
   "outputs": [],
   "source": [
    "def to_matrix(data, token_to_id, max_len=None, dtype='float32', batch_first = True):\n",
    "    \"\"\"Casts a list of names into rnn-digestable matrix\"\"\"\n",
    "    max_len = max_len or max(map(len, data))\n",
    "    data_ix = np.zeros([len(data), max_len], dtype) + token_to_id[' ']\n",
    "\n",
    "    for i in range(len(data)):\n",
    "        line_ix = [token_to_id[c] for c in data[i]]\n",
    "        data_ix[i, :len(line_ix)] = line_ix\n",
    "        \n",
    "    if not batch_first: # convert [batch, time] into [time, batch]\n",
    "        data_ix = np.transpose(data_ix)\n",
    "\n",
    "    return data_ix"
   ]
  },
  {
   "cell_type": "code",
   "execution_count": 9,
   "metadata": {
    "ExecuteTime": {
     "end_time": "2019-11-05T18:21:08.136936Z",
     "start_time": "2019-11-05T18:21:08.131609Z"
    },
    "colab": {
     "base_uri": "https://localhost:8080/",
     "height": 185
    },
    "colab_type": "code",
    "id": "XuvQGEfmL5c6",
    "outputId": "ea0ca7c0-9478-4dd0-f4a1-7bb855612494"
   },
   "outputs": [
    {
     "name": "stdout",
     "output_type": "stream",
     "text": [
      " Ababko\n",
      " Chihachev\n",
      " Isaikov\n",
      " Nakhamkin\n",
      " Ustenko\n",
      "[[36.  0. 33. 46. 33. 44. 42. 36. 36. 36.]\n",
      " [36. 29. 27. 23. 27. 46. 47. 27.  1. 48.]\n",
      " [36. 50. 15. 46. 23. 44. 42. 48. 36. 36.]\n",
      " [36. 20. 46. 44. 27. 46. 31. 44. 23. 22.]\n",
      " [36.  6. 15. 49.  1. 22. 44. 42. 36. 36.]]\n"
     ]
    }
   ],
   "source": [
    "#Example: cast 4 names to matrices, pad with zeros\n",
    "print('\\n'.join(names[::2000]))\n",
    "print(to_matrix(names[::2000], token_to_id))"
   ]
  },
  {
   "cell_type": "markdown",
   "metadata": {
    "colab_type": "text",
    "id": "9DWlOUj-L5c9"
   },
   "source": [
    "## ESN NN"
   ]
  },
  {
   "cell_type": "code",
   "execution_count": 10,
   "metadata": {
    "ExecuteTime": {
     "end_time": "2019-11-05T18:21:10.739438Z",
     "start_time": "2019-11-05T18:21:09.661222Z"
    },
    "colab": {},
    "colab_type": "code",
    "id": "LtguL_1QL5c-"
   },
   "outputs": [],
   "source": [
    "import torch, torch.nn as nn\n",
    "import torch.nn.functional as F\n",
    "import torch.optim as optim\n",
    "\n",
    "from torch.autograd import Variable\n",
    "from torchvision import datasets, transforms\n",
    "\n",
    "from IPython.display import clear_output\n",
    "from random import sample"
   ]
  },
  {
   "cell_type": "code",
   "execution_count": 11,
   "metadata": {
    "colab": {
     "base_uri": "https://localhost:8080/",
     "height": 269
    },
    "colab_type": "code",
    "id": "Gq5hrewJNHRr",
    "outputId": "129dcffe-5606-4809-b71f-fc17e1d836ef"
   },
   "outputs": [],
   "source": [
    "# !pip install easyesn"
   ]
  },
  {
   "cell_type": "markdown",
   "metadata": {
    "colab_type": "text",
    "id": "TZtEpzTTL5dP"
   },
   "source": [
    "### Define ESN class"
   ]
  },
  {
   "cell_type": "code",
   "execution_count": 346,
   "metadata": {
    "colab": {},
    "colab_type": "code",
    "id": "yI-4i-IjM8mm"
   },
   "outputs": [],
   "source": [
    "from easyesn import PredictionESN\n",
    "\n",
    "class GenESN(nn.Module):\n",
    "    def __init__(self, n_in, n_res, n_out, \n",
    "                 density=0.2, spec_radius=0.99, \n",
    "                 leaking_rate = 0, lin_size=64,\n",
    "                 device=torch.device('cuda'), **params):\n",
    "        super(GenESN, self).__init__()\n",
    "        self.device = device\n",
    "        \n",
    "        self.n_in = n_in\n",
    "        self.n_res = n_res\n",
    "        self.n_out = n_out\n",
    "        self.leaking_rate = leaking_rate\n",
    "\n",
    "        # reservoir initiation\n",
    "        try:\n",
    "            self.Winput = params['w_input']\n",
    "            self.Wreservoir = params['w_reservoir']\n",
    "            print('External reservoir set')\n",
    "        except:\n",
    "            esn = PredictionESN(n_input=n_in - 1, n_reservoir=n_res, n_output=1,\n",
    "                              reservoirDensity=density, spectralRadius=spec_radius,\n",
    "                              weightGeneration='SORM')          \n",
    "            self.Winput = torch.tensor(esn._WInput, requires_grad=False, dtype=torch.float32).to(device)\n",
    "            self.Wreservoir = torch.tensor(esn._W, requires_grad=False, dtype=torch.float32).to(device)\n",
    "            print('internal reservoir set')\n",
    "            n_non_zero = esn._W[esn._W > 0.01].shape[0]\n",
    "            print('Reservoir has {} non zero values ({:.2%})'.format(n_non_zero, \n",
    "                                                                   n_non_zero / (n_res ** 2) ))\n",
    "\n",
    "        # readout layers\n",
    "        self.readout_in = nn.Linear(n_res, lin_size)\n",
    "        self.hidden_ro_layers = [nn.Linear(lin_size, lin_size).to(device) \n",
    "                                 for i in range(params['ro_hidden_layers'] - 1)]\n",
    "        self.readout_out = nn.Linear(lin_size, self.n_out)\n",
    "\n",
    "        self.dropout = nn.Dropout(p=0.05)\n",
    "        self.softmax = nn.LogSoftmax()\n",
    "\n",
    "        return     \n",
    "        \n",
    "    def forward(self, input, hidden_state, grad=True):\n",
    "        \n",
    "        hidden_state = torch.mm(self.Winput, input.T) + torch.mm(self.Wreservoir, hidden_state) \n",
    "        hidden_state = torch.tanh(hidden_state) \n",
    "        \n",
    "        output = self.readout_in(hidden_state.T)\n",
    "        if self.hidden_ro_layers:\n",
    "            first_output = output.clone()\n",
    "            for layer in self.hidden_ro_layers:\n",
    "                output = layer(output)\n",
    "            output += first_output\n",
    "        output = self.readout_out(output)\n",
    "        return   hidden_state, self.softmax(output)\n",
    "          \n",
    "    def init_hidden(self):\n",
    "        \"\"\"hidden state initiation\"\"\"\n",
    "        return Variable(torch.zeros(self.n_res, 1, requires_grad=False)).to(self.device) \n",
    "    \n",
    "    def add_hidden_emb(self, sequence): \n",
    "        self.embedding = torch.cat((self.embedding, sequence.cpu()), 0)\n",
    "\n",
    "    def finalize(self):\n",
    "        self.init_embedding = False"
   ]
  },
  {
   "cell_type": "code",
   "execution_count": 347,
   "metadata": {
    "ExecuteTime": {
     "end_time": "2019-11-05T18:21:11.521078Z",
     "start_time": "2019-11-05T18:21:11.510175Z"
    },
    "colab": {},
    "colab_type": "code",
    "id": "Oodh5K9sL5dM"
   },
   "outputs": [],
   "source": [
    "def compute_state(net, batch_index):\n",
    "    batch_size, max_length, _ = batch_index.size()\n",
    "    hid_state = net.init_hidden()\n",
    "    logprobs = []\n",
    "\n",
    "    for x_t in batch_index.transpose(0, 1):\n",
    "        hid_state, logp_next = net(x_t.float().to(net.device), hid_state)  \n",
    "        logprobs.append(logp_next)\n",
    "        \n",
    "    return torch.stack(logprobs, dim=1)\n",
    "\n",
    "def lm_cross_entropy(pred, target):\n",
    "    pred_flat = pred.reshape(pred.shape[0] * pred.shape[1], pred.shape[-1])  \n",
    "    target_flat = target.view(-1) \n",
    "    return F.cross_entropy(pred_flat, target_flat, ignore_index=0)\n",
    "\n",
    "def scheduler(optimizer, patience):\n",
    "    return torch.optim.lr_scheduler.ReduceLROnPlateau(optimizer,\n",
    "                                                      patience=patience,\n",
    "                                                      factor=0.5,\n",
    "                                                      verbose=True)"
   ]
  },
  {
   "cell_type": "code",
   "execution_count": 348,
   "metadata": {},
   "outputs": [],
   "source": [
    "def trainESN(net, n_epoch, lr_scheduler, batch_size=64, history=[], \n",
    "                    device=torch.device('cuda'), data=names):\n",
    "    \n",
    "    for i in range(n_epoch):\n",
    "        batch_ix = to_matrix(sample(data, batch_size), token_to_id, max_len=MAX_LENGTH)\n",
    "        batch_ix = torch.tensor(batch_ix, dtype=torch.int64)\n",
    "        one_hot_batch = torch.nn.functional.one_hot(batch_ix, len(tokens))\n",
    "        \n",
    "        sequence = compute_state(net, one_hot_batch)\n",
    "        \n",
    "        predicted_seq = sequence[:, :-1]\n",
    "        actual_next_tokens = batch_ix[:, 1:].long().to(device)\n",
    "      \n",
    "        # loss = lm_cross_entropy(predictions_logp,actual_next_tokens)\n",
    "        loss = - torch.mean(torch.gather(predicted_seq, dim=2, \n",
    "                                         index=actual_next_tokens[:, :, None]))\n",
    "\n",
    "        loss.backward()\n",
    "        opt.step()\n",
    "        opt.zero_grad()\n",
    "\n",
    "        history.append(loss.data.cpu().numpy())\n",
    "        lr_scheduler.step(loss)\n",
    "        if (i + 1) % 100 == 0:\n",
    "            plt.figure(figsize=(12, 4.5))\n",
    "            plt.grid()\n",
    "            clear_output(True)\n",
    "            plt.plot(history, label='loss, lr = {}, epochs={} '.format(opt.param_groups[0]['lr'], i))\n",
    "            plt.legend()\n",
    "            plt.show()"
   ]
  },
  {
   "cell_type": "markdown",
   "metadata": {
    "colab_type": "text",
    "id": "5jrSOejdfNNJ"
   },
   "source": [
    "### Create ESN instance"
   ]
  },
  {
   "cell_type": "code",
   "execution_count": 363,
   "metadata": {
    "colab": {},
    "colab_type": "code",
    "id": "vmLA-PHrRZ6I"
   },
   "outputs": [
    {
     "name": "stdout",
     "output_type": "stream",
     "text": [
      "internal reservoir set\n",
      "Reservoir has 1252 non zero values (0.78%)\n",
      "GenESN(\n",
      "  (readout_in): Linear(in_features=400, out_features=64, bias=True)\n",
      "  (readout_out): Linear(in_features=64, out_features=53, bias=True)\n",
      "  (dropout): Dropout(p=0.05, inplace=False)\n",
      "  (softmax): LogSoftmax()\n",
      ")\n",
      "Wall time: 1.5 s\n"
     ]
    }
   ],
   "source": [
    "%%time\n",
    "device = torch.device('cuda')\n",
    "n_in = len(tokens)\n",
    "n_res = 400\n",
    "lin_size = 64\n",
    "ro_hidden_layers = 1\n",
    "density = 0.02\n",
    "\n",
    "net = GenESN(n_in=n_in, n_res=n_res , n_out=len(tokens), ro_hidden_layers = 2 ,\n",
    "             lin_size=lin_size, density=density, device=device) \n",
    "net.to(device)\n",
    "print(net)"
   ]
  },
  {
   "cell_type": "code",
   "execution_count": 364,
   "metadata": {
    "colab": {},
    "colab_type": "code",
    "id": "7oWZJhKbDUh2"
   },
   "outputs": [],
   "source": [
    "lr = 1e-3\n",
    "opt = torch.optim.Adam(net.parameters(), lr=lr)\n",
    "lr_scheduler = scheduler(opt, patience=200)\n",
    "MAX_LENGTH = max(map(len, names))\n",
    "history = []"
   ]
  },
  {
   "cell_type": "code",
   "execution_count": 365,
   "metadata": {
    "ExecuteTime": {
     "end_time": "2019-11-05T18:21:23.521061Z",
     "start_time": "2019-11-05T18:21:12.302892Z"
    },
    "colab": {
     "base_uri": "https://localhost:8080/",
     "height": 326
    },
    "colab_type": "code",
    "id": "tll_fV_SL5dT",
    "outputId": "7d93820a-044d-46a4-ca9e-a713aee41199",
    "scrolled": true
   },
   "outputs": [
    {
     "data": {
      "image/png": "[encoded data removed]",
      "text/plain": [
       "<Figure size 864x324 with 1 Axes>"
      ]
     },
     "metadata": {
      "needs_background": "light"
     },
     "output_type": "display_data"
    },
    {
     "name": "stdout",
     "output_type": "stream",
     "text": [
      "Wall time: 29.7 s\n"
     ]
    }
   ],
   "source": [
    "n_epoch = 500\n",
    "batch_size = 300\n",
    "\n",
    "%time trainESN(net,n_epoch=n_epoch, batch_size=batch_size, lr_scheduler=lr_scheduler, history=history)"
   ]
  },
  {
   "cell_type": "markdown",
   "metadata": {
    "colab_type": "text",
    "id": "oPnVoXRdL5dW"
   },
   "source": [
    "### ESN generating"
   ]
  },
  {
   "cell_type": "code",
   "execution_count": 366,
   "metadata": {},
   "outputs": [],
   "source": [
    "def generate_sample(net, seed_phrase=' ', max_length=MAX_LENGTH, \n",
    "                    temperature=1.0, enforce_end=False, device=torch.device('cuda')):\n",
    "    x_sequence = [token_to_id[token] for token in seed_phrase]\n",
    "    x_sequence = torch.tensor([x_sequence], dtype=torch.int64).to(device)\n",
    "\n",
    "    with torch.no_grad():\n",
    "        hid_state = net.init_hidden()\n",
    "        for i in range(len(seed_phrase) - 1):\n",
    "            x_t = x_sequence[:, i]\n",
    "            x_t = torch.tensor(x_t.data, dtype=torch.int64)\n",
    "            x_t = torch.nn.functional.one_hot(x_t, len(tokens))\n",
    "            hid_state, _ = net(x_t.float().to(net.device), hid_state)\n",
    "\n",
    "        for _ in range(max_length - len(seed_phrase)):\n",
    "            x_t = x_sequence[:, -1]\n",
    "            x_t = torch.tensor(x_t.data, dtype=torch.int64)\n",
    "            x_t = torch.nn.functional.one_hot(x_t, len(tokens))\n",
    "\n",
    "            hid_state, logp_next = net(x_t.float().to(net.device), hid_state)\n",
    "\n",
    "            p_next = F.softmax(logp_next.cpu() / temperature, dim=-1).data.numpy()[0]\n",
    "\n",
    "            next_ix = np.random.choice(len(tokens), p=p_next)\n",
    "            next_ix = torch.tensor([[next_ix]], dtype=torch.int64)\n",
    "            if enforce_end and tokens[next_ix] == ' ':\n",
    "                break\n",
    "            x_sequence = torch.cat([x_sequence.float(), next_ix.to(device).float()], dim=1)\n",
    "        \n",
    "        \n",
    "    return ''.join([tokens[ix] for ix in x_sequence.int().cpu().data.numpy()[0]])"
   ]
  },
  {
   "cell_type": "code",
   "execution_count": 367,
   "metadata": {
    "ExecuteTime": {
     "end_time": "2019-11-05T18:21:23.625562Z",
     "start_time": "2019-11-05T18:21:23.544968Z"
    },
    "colab": {
     "base_uri": "https://localhost:8080/",
     "height": 185
    },
    "colab_type": "code",
    "id": "zHe1CZVNL5da",
    "outputId": "20e8eefb-8ff7-4e20-8c3b-9c5e1f47d6a5"
   },
   "outputs": [
    {
     "name": "stdout",
     "output_type": "stream",
     "text": [
      " Zhilovuz            \n",
      " Gokhov              \n",
      " Nasuheviko          \n",
      " Thamashin           \n",
      " Arebo               \n",
      " Valihin             \n",
      " Bairkenev           \n",
      " Lubkin              \n",
      " Tzamuhen            \n",
      " Firenkov            \n"
     ]
    }
   ],
   "source": [
    "for _ in range(10):\n",
    "    print(generate_sample(net, temperature=1.0,seed_phrase=' '))"
   ]
  },
  {
   "cell_type": "code",
   "execution_count": 373,
   "metadata": {
    "ExecuteTime": {
     "end_time": "2019-11-05T18:21:23.702249Z",
     "start_time": "2019-11-05T18:21:23.629226Z"
    },
    "colab": {
     "base_uri": "https://localhost:8080/",
     "height": 185
    },
    "colab_type": "code",
    "id": "ORyESEhwL5de",
    "outputId": "e8be4b7d-ac19-4fce-ffc2-b9922f54846d"
   },
   "outputs": [
    {
     "name": "stdout",
     "output_type": "stream",
     "text": [
      " Zhurinov            \n",
      " Zhurn               \n",
      " Zhuladkich          \n",
      " Zhurtin             \n",
      " Zhukhotsin          \n",
      " Zhulkin             \n",
      " Zhulin              \n",
      " Zhurokov            \n",
      " Zhultievich         \n",
      " Zhuevik             \n"
     ]
    }
   ],
   "source": [
    "for _ in range(10):\n",
    "    print(generate_sample(net, seed_phrase=' Zhu',temperature=0.8))"
   ]
  },
  {
   "cell_type": "markdown",
   "metadata": {
    "colab_type": "text",
    "id": "1E8dIW-LkMTH"
   },
   "source": [
    "### GridSearch Optimization hyperparams"
   ]
  },
  {
   "cell_type": "code",
   "execution_count": 0,
   "metadata": {
    "colab": {},
    "colab_type": "code",
    "id": "YykHzpgZU0ue"
   },
   "outputs": [],
   "source": [
    "from sklearn.model_selection import ParameterGrid\n",
    "\n",
    "def GridSearchOptimizer(n_epoch=1000, batch_size=256, in_out=(1, len(tokens)), \n",
    "                        device=torch.device('cuda'), **params):\n",
    "    try:\n",
    "        prev_res = 0\n",
    "        for param in ParameterGrid(params):\n",
    "            print('Params: {}'.format(param))\n",
    "            net = GenESN(n_in=in_out[0], n_res=param['n_res'], n_out=in_out[1],\n",
    "                         lin_size=param['lin_size'],\n",
    "                         density=param['density'],\n",
    "                         device=device)\n",
    "            net.to(device)\n",
    "            lerning_rate = 1e-3\n",
    "            opt = torch.optim.Adam(net.parameters(), lr=lerning_rate)\n",
    "            lr_scheduler = scheduler(opt, patience=150)\n",
    "            history = []\n",
    "            for i in range(n_epoch):\n",
    "                batch_ix = to_matrix(sample(names, batch_size), token_to_id, max_len=MAX_LENGTH)\n",
    "                batch_ix = torch.tensor(batch_ix, dtype=torch.float32).to(device)\n",
    "                logp_seq = compute_state(net, batch_ix)\n",
    "                predictions_logp = logp_seq[:, :-1]\n",
    "                actual_next_tokens = batch_ix[:, 1:].long().to(device)\n",
    "                loss = -torch.mean(torch.gather(predictions_logp, dim=2, \n",
    "                                                index=actual_next_tokens[:,:,None]))\n",
    "                # loss = lm_cross_entropy(predictions_logp,actual_next_tokens)\n",
    "                loss.backward()\n",
    "                opt.step()\n",
    "                opt.zero_grad()\n",
    "                history.append(loss.data.cpu().numpy())\n",
    "            print('Loss function value: {} \\n'.format(round(np.mean(history[-50:]), 3)))\n",
    "    except KeyboardInterrupt:\n",
    "        print('KeyboardInterrupt, stoping...')\n",
    "        return "
   ]
  },
  {
   "cell_type": "code",
   "execution_count": 66,
   "metadata": {
    "colab": {
     "base_uri": "https://localhost:8080/",
     "height": 622
    },
    "colab_type": "code",
    "id": "YjN_FUZikMTL",
    "outputId": "34abde93-a10f-4eb9-9d71-2acd4eab6fe6"
   },
   "outputs": [
    {
     "name": "stdout",
     "output_type": "stream",
     "text": [
      "Params: {'density': 0.05, 'lin_size': 64, 'n_res': 800}\n",
      "internal reservoir set\n",
      "Loss function value: 1.2949999570846558 \n",
      "\n",
      "Params: {'density': 0.05, 'lin_size': 100, 'n_res': 800}\n",
      "internal reservoir set\n",
      "Loss function value: 1.1629999876022339 \n",
      "\n",
      "Params: {'density': 0.05, 'lin_size': 210, 'n_res': 800}\n",
      "internal reservoir set\n",
      "Loss function value: 1.2879999876022339 \n",
      "\n",
      "Params: {'density': 0.1, 'lin_size': 64, 'n_res': 800}\n",
      "internal reservoir set\n",
      "Loss function value: 1.2510000467300415 \n",
      "\n",
      "Params: {'density': 0.1, 'lin_size': 100, 'n_res': 800}\n",
      "internal reservoir set\n",
      "Loss function value: 1.534999966621399 \n",
      "\n",
      "Params: {'density': 0.1, 'lin_size': 210, 'n_res': 800}\n",
      "internal reservoir set\n",
      "Loss function value: 1.9320000410079956 \n",
      "\n",
      "Params: {'density': 0.2, 'lin_size': 64, 'n_res': 800}\n",
      "internal reservoir set\n",
      "Loss function value: 1.2940000295639038 \n",
      "\n",
      "Params: {'density': 0.2, 'lin_size': 100, 'n_res': 800}\n",
      "internal reservoir set\n",
      "Loss function value: 1.25 \n",
      "\n",
      "Params: {'density': 0.2, 'lin_size': 210, 'n_res': 800}\n",
      "internal reservoir set\n",
      "Loss function value: 1.4320000410079956 \n",
      "\n"
     ]
    }
   ],
   "source": [
    "GridSearchOptimizer(n_res=[800],\n",
    "                    lin_size=[64, 100, 210],\n",
    "                    density=[0.05, 0.1, 0.2])"
   ]
  },
  {
   "cell_type": "markdown",
   "metadata": {
    "colab_type": "text",
    "collapsed": true,
    "id": "oXasIgZEL5dh"
   },
   "source": [
    "### RNN implementation"
   ]
  },
  {
   "cell_type": "code",
   "execution_count": 374,
   "metadata": {
    "colab": {},
    "colab_type": "code",
    "id": "PknuVyCXWaaY"
   },
   "outputs": [],
   "source": [
    "class CharRNNCell(nn.Module):\n",
    "    def __init__(self, num_tokens=len(tokens), embedding_size=16, \n",
    "                 rnn_num_units=64, device = torch.device('cuda:0')):\n",
    "        super(self.__class__,self).__init__()\n",
    "        self.num_units = rnn_num_units\n",
    "        self.embedding = nn.Embedding(num_tokens, embedding_size).to(device)\n",
    "        self.rnn_update = nn.Linear(embedding_size + rnn_num_units, rnn_num_units).to(device)\n",
    "        self.rnn_to_logits = nn.Linear(rnn_num_units, num_tokens).to(device)\n",
    "        \n",
    "    def forward(self, x, h_prev):\n",
    "        x_emb = self.embedding(x).to(device)\n",
    "        \n",
    "        x_and_h = torch.cat([x_emb, h_prev], dim=1) \n",
    "        h_next = self.rnn_update(x_and_h)         \n",
    "        h_next = F.tanh(h_next)\n",
    "        \n",
    "        logits = self.rnn_to_logits(h_next)\n",
    "        \n",
    "        return h_next, F.log_softmax(logits, -1)\n",
    "    \n",
    "    def initial_state(self, batch_size):\n",
    "        return Variable(torch.zeros(batch_size, self.num_units))"
   ]
  },
  {
   "cell_type": "code",
   "execution_count": 375,
   "metadata": {
    "colab": {},
    "colab_type": "code",
    "id": "OW7U24l5Wppx"
   },
   "outputs": [],
   "source": [
    "def rnn_loop(rnn, batch_index):\n",
    "    batch_size, max_length = batch_index.size()\n",
    "    hid_state = rnn.initial_state(batch_size).to(device)\n",
    "    logprobs = []\n",
    "    for x_t in batch_index.transpose(0, 1):\n",
    "        hid_state, logp_next = rnn(x_t.to(device), hid_state.to(device))  \n",
    "        logprobs.append(logp_next)\n",
    "    return torch.stack(logprobs, dim=1)"
   ]
  },
  {
   "cell_type": "code",
   "execution_count": 376,
   "metadata": {
    "ExecuteTime": {
     "end_time": "2019-11-05T18:21:31.468107Z",
     "start_time": "2019-11-05T18:21:23.792092Z"
    },
    "colab": {},
    "colab_type": "code",
    "id": "PljEglKFL5dn"
   },
   "outputs": [],
   "source": [
    "def trainRNN(rnn, n_epoch=1000,batch_size=250, max_length=MAX_LENGTH):\n",
    "    for i in range(n_epoch):\n",
    "        batch_ix = to_matrix(sample(names, batch_size), token_to_id, max_len=max_length)\n",
    "        batch_ix = torch.tensor(batch_ix, dtype=torch.int64)\n",
    "\n",
    "        logp_seq = rnn_loop(rnn, batch_ix)\n",
    "\n",
    "        predictions_logp = logp_seq[:, :-1].to(device)\n",
    "        actual_next_tokens = batch_ix[:, 1:].to(device)\n",
    "        loss = -torch.mean(torch.gather(predictions_logp, dim=2, index=actual_next_tokens[:, :, None]))\n",
    "\n",
    "        loss.backward()\n",
    "        opt.step()\n",
    "        opt.zero_grad()\n",
    "\n",
    "        history.append(loss.data.cpu().numpy())\n",
    "        if (i + 1) % 100 == 0:\n",
    "            clear_output(True)\n",
    "            plt.figure(figsize=(10, 4.5))\n",
    "            plt.grid()\n",
    "            plt.plot(history, label='loss')\n",
    "            plt.legend()\n",
    "            plt.show()\n",
    "\n",
    "    assert np.mean(history[:10]) > np.mean(history[-10:]), \"RNN didn't converge.\""
   ]
  },
  {
   "cell_type": "code",
   "execution_count": 377,
   "metadata": {
    "colab": {},
    "colab_type": "code",
    "id": "TV_mQYKLWzM2"
   },
   "outputs": [],
   "source": [
    "char_rnn = CharRNNCell()\n",
    "opt = torch.optim.Adam(char_rnn.parameters())\n",
    "history = []"
   ]
  },
  {
   "cell_type": "code",
   "execution_count": 378,
   "metadata": {
    "colab": {
     "base_uri": "https://localhost:8080/",
     "height": 293
    },
    "colab_type": "code",
    "id": "FPOrn-ywkMTZ",
    "outputId": "760e87f6-54e7-4db4-b355-1938c2b0d161"
   },
   "outputs": [
    {
     "data": {
      "image/png": "[encoded data removed]",
      "text/plain": [
       "<Figure size 720x324 with 1 Axes>"
      ]
     },
     "metadata": {
      "needs_background": "light"
     },
     "output_type": "display_data"
    },
    {
     "name": "stdout",
     "output_type": "stream",
     "text": [
      "Wall time: 21.8 s\n"
     ]
    }
   ],
   "source": [
    "%%time\n",
    "trainRNN(char_rnn, n_epoch=500, batch_size=300)"
   ]
  },
  {
   "cell_type": "code",
   "execution_count": 379,
   "metadata": {
    "colab": {},
    "colab_type": "code",
    "id": "sZRawgPWGBQ7"
   },
   "outputs": [],
   "source": [
    "def generate_sample_rnn(char_rnn, seed_phrase=' ', max_length=MAX_LENGTH, temperature=1.0,\n",
    "                        enforce_end=False, device=torch.device('cuda')):    \n",
    "    x_sequence = [token_to_id[token] for token in seed_phrase]\n",
    "    x_sequence = torch.tensor([x_sequence], dtype=torch.int64).to(device)\n",
    "    hid_state = char_rnn.initial_state(batch_size=1).to(device)\n",
    "    \n",
    "    for i in range(len(seed_phrase) - 1):\n",
    "        hid_state, _ = char_rnn(x_sequence[:, i], hid_state)\n",
    "    \n",
    "    for _ in range(max_length - len(seed_phrase)):\n",
    "        hid_state, logp_next = char_rnn(x_sequence[:, -1], hid_state)\n",
    "        p_next = F.softmax(logp_next / temperature, dim=-1).data.cpu().numpy()[0]\n",
    "        \n",
    "        next_ix = np.random.choice(len(tokens), p=p_next)\n",
    "        next_ix = torch.tensor([[next_ix]], dtype=torch.int64).to(device)\n",
    "        if enforce_end and tokens[next_ix] == ' ':\n",
    "            break\n",
    "        x_sequence = torch.cat([x_sequence, next_ix], dim=1)\n",
    "       \n",
    "        \n",
    "    return ''.join([tokens[ix] for ix in x_sequence.data.cpu().numpy()[0]])"
   ]
  },
  {
   "cell_type": "code",
   "execution_count": 381,
   "metadata": {
    "ExecuteTime": {
     "end_time": "2019-11-05T18:21:31.526436Z",
     "start_time": "2019-11-05T18:21:31.469965Z"
    },
    "colab": {
     "base_uri": "https://localhost:8080/",
     "height": 185
    },
    "colab_type": "code",
    "id": "Xw-3R-9QL5dq",
    "outputId": "0d9ce7c4-1c66-43f0-a6b6-841d87a21355"
   },
   "outputs": [
    {
     "name": "stdout",
     "output_type": "stream",
     "text": [
      " Alperov             \n",
      " Alperosov           \n",
      " Alperov             \n",
      " Alperov             \n",
      " Alperotsev          \n",
      " Alperov             \n",
      " Alpero              \n",
      " Alperov             \n",
      " Alperov             \n",
      " Alperonkic          \n"
     ]
    }
   ],
   "source": [
    "for _ in range(10):\n",
    "    print(generate_sample_rnn(char_rnn,temperature=0.8,seed_phrase=' Alpero'))"
   ]
  },
  {
   "cell_type": "markdown",
   "metadata": {
    "colab_type": "text",
    "id": "6jy4GwHCkMTk"
   },
   "source": [
    "### Evaluate and compare generated results. Vanilla RNN VS ESN"
   ]
  },
  {
   "cell_type": "code",
   "execution_count": 382,
   "metadata": {
    "colab": {},
    "colab_type": "code",
    "id": "ENXDq5UkkMTl"
   },
   "outputs": [],
   "source": [
    "from nltk.translate.bleu_score import SmoothingFunction, sentence_bleu\n",
    "from nltk import bleu"
   ]
  },
  {
   "cell_type": "code",
   "execution_count": 439,
   "metadata": {
    "colab": {},
    "colab_type": "code",
    "id": "MWxevru6kMTo"
   },
   "outputs": [],
   "source": [
    "n_gen = 10\n",
    "t = 0.9\n",
    "rnn_generated = [generate_sample_rnn(char_rnn, seed_phrase=' ', temperature=t, enforce_end=True) \\\n",
    "                 for x in range(n_gen)]\n",
    "esn_generated = [generate_sample(net, seed_phrase=' ', temperature=t, enforce_end=True) for x in range(n_gen)]"
   ]
  },
  {
   "cell_type": "code",
   "execution_count": 440,
   "metadata": {
    "colab": {
     "base_uri": "https://localhost:8080/",
     "height": 34
    },
    "colab_type": "code",
    "id": "ljs5KDOJkMTr",
    "outputId": "789b9250-8d86-4ddb-b0ed-2b7d0ef29031"
   },
   "outputs": [
    {
     "data": {
      "text/plain": [
       "([' Zhevskyal', ' dutsevsko', ' Mendich'],\n",
       " [' Perobisky', ' Grahin', ' Kakitchin'])"
      ]
     },
     "execution_count": 440,
     "metadata": {},
     "output_type": "execute_result"
    }
   ],
   "source": [
    "rnn_generated[:3], esn_generated[:3]"
   ]
  },
  {
   "cell_type": "code",
   "execution_count": 454,
   "metadata": {
    "colab": {},
    "colab_type": "code",
    "id": "v40VzSiVkMTu"
   },
   "outputs": [],
   "source": [
    "def evaluate_gen(reference, candidates, is_sentence_bleu=False):\n",
    "    sm_f = SmoothingFunction()\n",
    "    min_bleu = 1\n",
    "    score_lst = []\n",
    "    for candidate in candidates:\n",
    "        if is_sentence_bleu:\n",
    "            score_lst.append(sentence_bleu(reference, candidate))\n",
    "        else:\n",
    "            score_lst.append(np.mean([bleu(ref, candidate, smoothing_function=sm_f.method1) \n",
    "                                      for ref in reference]))\n",
    "    return score_lst\n",
    "        "
   ]
  },
  {
   "cell_type": "code",
   "execution_count": 455,
   "metadata": {
    "colab": {
     "base_uri": "https://localhost:8080/",
     "height": 689
    },
    "colab_type": "code",
    "id": "i0WU7FtEHgv2",
    "outputId": "e1ff13b0-37c1-41e2-c165-2847f13ff619"
   },
   "outputs": [
    {
     "data": {
      "text/plain": [
       "([' Perobisky', ' Grahin', ' Kakitchin', ' Murlagaev', ' Lizhanov'],\n",
       " [' Zhevskyal', ' dutsevsko', ' Mendich', ' Jdezkenihanev', ' Tyataittsn'])"
      ]
     },
     "execution_count": 455,
     "metadata": {},
     "output_type": "execute_result"
    }
   ],
   "source": [
    "esn_generated[:5], rnn_generated[:5]"
   ]
  },
  {
   "cell_type": "code",
   "execution_count": 456,
   "metadata": {
    "colab": {
     "base_uri": "https://localhost:8080/",
     "height": 67
    },
    "colab_type": "code",
    "id": "8pO7WXZmkMT5",
    "outputId": "0bde9355-2156-4bce-f764-0adadedb4321"
   },
   "outputs": [
    {
     "name": "stdout",
     "output_type": "stream",
     "text": [
      "Wall time: 23.5 s\n",
      "Eval mean: 0.0387 Eval min: 0.0272 Eval max: 0.0926\n"
     ]
    }
   ],
   "source": [
    "%time score_lst = evaluate_gen(names, esn_generated)\n",
    "print('Eval mean: {:.3} Eval min: {:.3} Eval max: {:.3}'.format(np.mean(score_lst), \n",
    "                                                                min(score_lst), \n",
    "                                                                max(score_lst)))"
   ]
  },
  {
   "cell_type": "code",
   "execution_count": 457,
   "metadata": {
    "colab": {
     "base_uri": "https://localhost:8080/",
     "height": 67
    },
    "colab_type": "code",
    "id": "HhJvAc0lkMT7",
    "outputId": "6ce0118f-baa4-4e34-e2ae-d178bd00452d"
   },
   "outputs": [
    {
     "name": "stdout",
     "output_type": "stream",
     "text": [
      "Wall time: 26.2 s\n",
      "Eval mean: 0.0291 Eval min: 0.0208 Eval max: 0.0369\n"
     ]
    }
   ],
   "source": [
    "%time score_lst = evaluate_gen(names, rnn_generated)\n",
    "print('Eval mean: {:.3} Eval min: {:.3} Eval max: {:.3}'.format(np.mean(score_lst), \n",
    "                                                                min(score_lst), \n",
    "                                                                max(score_lst)))"
   ]
  },
  {
   "cell_type": "code",
   "execution_count": 458,
   "metadata": {
    "colab": {
     "base_uri": "https://localhost:8080/",
     "height": 67
    },
    "colab_type": "code",
    "id": "5bOgOKT7XNuq",
    "outputId": "40eaf2a9-8e9d-4076-a185-34df82bc6304"
   },
   "outputs": [
    {
     "name": "stdout",
     "output_type": "stream",
     "text": [
      "Wall time: 3.15 s\n",
      "Eval mean: 0.87 Eval min: 0.699 Eval max: 1.0\n"
     ]
    }
   ],
   "source": [
    "%time score_lst = evaluate_gen(names, esn_generated, is_sentence_bleu=True)\n",
    "print('Eval mean: {:.3} Eval min: {:.3} Eval max: {:.3}'.format(np.mean(score_lst), \n",
    "                                                                min(score_lst), \n",
    "                                                                max(score_lst)))"
   ]
  },
  {
   "cell_type": "code",
   "execution_count": 459,
   "metadata": {
    "colab": {
     "base_uri": "https://localhost:8080/",
     "height": 67
    },
    "colab_type": "code",
    "id": "0Z7KwgMaXOgz",
    "outputId": "382b4224-ed95-488b-eebd-ba0984f2d5db"
   },
   "outputs": [
    {
     "name": "stdout",
     "output_type": "stream",
     "text": [
      "Wall time: 3.42 s\n",
      "Eval mean: 0.679 Eval min: 1.07e-77 Eval max: 0.919\n"
     ]
    }
   ],
   "source": [
    "%time score_lst = evaluate_gen(names, rnn_generated, is_sentence_bleu=True)\n",
    "print('Eval mean: {:.3} Eval min: {:.3} Eval max: {:.3}'.format(np.mean(score_lst), \n",
    "                                                                min(score_lst), \n",
    "                                                                max(score_lst)))"
   ]
  },
  {
   "cell_type": "markdown",
   "metadata": {
    "colab_type": "text",
    "id": "90-IdCbxkMT-"
   },
   "source": [
    "**Compare score by temperature**"
   ]
  },
  {
   "cell_type": "code",
   "execution_count": 460,
   "metadata": {
    "colab": {
     "base_uri": "https://localhost:8080/",
     "height": 202
    },
    "colab_type": "code",
    "id": "P_7V45wIkMUA",
    "outputId": "ecce1939-f098-4941-d070-4e95eb642853"
   },
   "outputs": [
    {
     "name": "stdout",
     "output_type": "stream",
     "text": [
      "Temperature 0.2\n",
      "Temperature 0.3\n",
      "Temperature 0.4\n",
      "Temperature 0.5\n",
      "Temperature 0.6\n",
      "Temperature 0.7\n",
      "Temperature 0.8\n",
      "Temperature 0.9\n",
      "Temperature 1\n",
      "Wall time: 51.7 s\n"
     ]
    }
   ],
   "source": [
    "%%time\n",
    "n_gen = 100\n",
    "n_neg_sample = 500\n",
    "temperature = [0.2, 0.3, 0.4, 0.5, 0.6, 0.7, 0.8, 0.9, 1]\n",
    "is_sentence_bleu = True\n",
    "\n",
    "rnn_gen_mean_lst = []\n",
    "esn_gen_mean_lst = []\n",
    "rnn_gen_min_lst = []\n",
    "esn_gen_min_lst = []\n",
    "rnn_gen_max_lst = []\n",
    "esn_gen_max_lst = []\n",
    "\n",
    "for t in temperature:\n",
    "    print('Temperature {}'.format(t))\n",
    "    sample_data = sample(names, n_neg_sample)\n",
    "    rnn_generated = [generate_sample_rnn(char_rnn, seed_phrase=' ', temperature=t, enforce_end=True) \\\n",
    "                     for x in range(n_gen)]\n",
    "    score_lst = evaluate_gen(sample_data, rnn_generated, is_sentence_bleu=is_sentence_bleu)\n",
    "    rnn_gen_mean_lst.append(np.mean(score_lst))\n",
    "    rnn_gen_min_lst.append(min(score_lst))\n",
    "    rnn_gen_max_lst.append(max(score_lst))\n",
    "    \n",
    "    esn_generated = [generate_sample(net, seed_phrase=' ', temperature=t, enforce_end=True) for x in range(n_gen)]\n",
    "    score_lst = evaluate_gen(sample_data, esn_generated, is_sentence_bleu=is_sentence_bleu)\n",
    "    esn_gen_mean_lst.append(np.mean(score_lst))\n",
    "    esn_gen_min_lst.append(min(score_lst))\n",
    "    esn_gen_max_lst.append(max(score_lst))"
   ]
  },
  {
   "cell_type": "code",
   "execution_count": 462,
   "metadata": {
    "colab": {
     "base_uri": "https://localhost:8080/",
     "height": 350
    },
    "colab_type": "code",
    "id": "dkmY2Cu2kMUF",
    "outputId": "712ddf74-ca8c-4e71-ae7b-11543b202836"
   },
   "outputs": [
    {
     "data": {
      "image/png": "[encoded data removed]",
      "text/plain": [
       "<Figure size 648x360 with 1 Axes>"
      ]
     },
     "metadata": {
      "needs_background": "light"
     },
     "output_type": "display_data"
    }
   ],
   "source": [
    "plt.figure(figsize=(9,5))\n",
    "plt.plot(temperature,rnn_gen_mean_lst, label='rnn mean score')\n",
    "plt.plot(temperature,esn_gen_mean_lst, label='esn mean score')\n",
    "plt.plot(temperature,rnn_gen_max_lst, '--', label='rnn max score')\n",
    "plt.plot(temperature,esn_gen_max_lst,'--', label='esn max score')\n",
    "plt.plot(temperature,rnn_gen_min_lst,'--', label='rnn min score')\n",
    "plt.plot(temperature,esn_gen_min_lst,'--', label='esn min score')\n",
    "plt.xlabel('temperature')\n",
    "plt.ylabel('Score')\n",
    "plt.title('Evaluation score by temperature of generation')\n",
    "plt.grid()\n",
    "plt.legend()\n",
    "plt.show()"
   ]
  }
 ],
 "metadata": {
  "accelerator": "GPU",
  "colab": {
   "collapsed_sections": [],
   "name": "ESN_text_generation.ipynb",
   "provenance": []
  },
  "kernelspec": {
   "display_name": "Python 3",
   "language": "python",
   "name": "python3"
  },
  "language_info": {
   "codemirror_mode": {
    "name": "ipython",
    "version": 3
   },
   "file_extension": ".py",
   "mimetype": "text/x-python",
   "name": "python",
   "nbconvert_exporter": "python",
   "pygments_lexer": "ipython3",
   "version": "3.7.4"
  },
  "latex_envs": {
   "LaTeX_envs_menu_present": true,
   "autoclose": false,
   "autocomplete": true,
   "bibliofile": "biblio.bib",
   "cite_by": "apalike",
   "current_citInitial": 1,
   "eqLabelWithNumbers": true,
   "eqNumInitial": 1,
   "hotkeys": {
    "equation": "Ctrl-E",
    "itemize": "Ctrl-I"
   },
   "labels_anchors": false,
   "latex_user_defs": false,
   "report_style_numbering": false,
   "user_envs_cfg": false
  },
  "toc": {
   "base_numbering": 1,
   "nav_menu": {},
   "number_sections": true,
   "sideBar": true,
   "skip_h1_title": false,
   "title_cell": "Table of Contents",
   "title_sidebar": "Contents",
   "toc_cell": false,
   "toc_position": {},
   "toc_section_display": true,
   "toc_window_display": false
  }
 },
 "nbformat": 4,
 "nbformat_minor": 1
}
